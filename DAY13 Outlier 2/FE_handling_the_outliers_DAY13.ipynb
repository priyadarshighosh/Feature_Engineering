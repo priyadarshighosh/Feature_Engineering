{
  "nbformat": 4,
  "nbformat_minor": 0,
  "metadata": {
    "colab": {
      "private_outputs": true,
      "provenance": []
    },
    "kernelspec": {
      "name": "python3",
      "display_name": "Python 3"
    },
    "language_info": {
      "name": "python"
    }
  },
  "cells": [
    {
      "cell_type": "markdown",
      "source": [
        "# HANDLING The Outliers\n",
        "\n",
        "\n",
        "#  Inter-Quartile Percentile -IQR Method"
      ],
      "metadata": {
        "id": "u93QB4H8gs0F"
      }
    },
    {
      "cell_type": "markdown",
      "source": [
        "IMPORTING DATA SCIENCE LIBRARIES"
      ],
      "metadata": {
        "id": "I2xjrloHcxJQ"
      }
    },
    {
      "cell_type": "code",
      "execution_count": null,
      "metadata": {
        "id": "JF9RMWnFZYq3"
      },
      "outputs": [],
      "source": [
        "import numpy as np\n",
        "import pandas as pd\n",
        "import matplotlib.pyplot as plt\n",
        "import seaborn as sns\n"
      ]
    },
    {
      "cell_type": "markdown",
      "source": [
        "IMPORTING MACHINE LEARNING LIBRARIES AND CLASSES"
      ],
      "metadata": {
        "id": "eQYW8ynycqpU"
      }
    },
    {
      "cell_type": "code",
      "source": [
        "\n",
        "from sklearn.model_selection import train_test_split               #for splitting the data into test and training data\n",
        "from sklearn.compose import ColumnTransformer                       #for transforming the columns\n",
        "from sklearn.impute import SimpleImputer                             #for imputing the missing values\n",
        "from sklearn.preprocessing import OneHotEncoder                      #one hot encoding\n",
        "from sklearn.preprocessing import MinMaxScaler                        #standard scaling\n",
        "\n",
        "\n",
        "from sklearn.metrics import accuracy_score                 # for accuracy score\n",
        "from sklearn.model_selection import cross_val_score        # for cross validation score\n"
      ],
      "metadata": {
        "id": "TaUQd0m-afNa"
      },
      "execution_count": null,
      "outputs": []
    },
    {
      "cell_type": "code",
      "source": [
        "from google.colab import files    # we are importing the file from the device\n",
        "uploaded = files.upload()"
      ],
      "metadata": {
        "id": "LyA9ckDSZ1Ra"
      },
      "execution_count": null,
      "outputs": []
    },
    {
      "cell_type": "code",
      "source": [
        "df=pd.read_csv('placement.extra.csv')   #fitting the data in the df dataframe\n",
        "df.head()"
      ],
      "metadata": {
        "id": "paRuHdlDaWqd"
      },
      "execution_count": null,
      "outputs": []
    },
    {
      "cell_type": "code",
      "source": [
        "df.info()"
      ],
      "metadata": {
        "id": "wCHVmYR_fag7"
      },
      "execution_count": null,
      "outputs": []
    },
    {
      "cell_type": "code",
      "source": [
        "df.describe()"
      ],
      "metadata": {
        "id": "UbV7iabMfcp3"
      },
      "execution_count": null,
      "outputs": []
    },
    {
      "cell_type": "code",
      "source": [
        "df.isnull().sum()"
      ],
      "metadata": {
        "id": "nrUIXvhGfh6_"
      },
      "execution_count": null,
      "outputs": []
    },
    {
      "cell_type": "code",
      "source": [
        "plt.figure(figsize=(12,10))\n",
        "plt.subplot(1,2,1)\n",
        "\n",
        "sns.histplot(df['cgpa'], kde=True)\n",
        "\n",
        "plt.subplot(1,2,2)\n",
        "sns.histplot(df['placement_exam_marks'] , kde=True)"
      ],
      "metadata": {
        "id": "_9shwYygXk5n"
      },
      "execution_count": null,
      "outputs": []
    },
    {
      "cell_type": "code",
      "source": [
        "df['placement_exam_marks'].skew()     #it is right skewed by 83perc"
      ],
      "metadata": {
        "id": "UDeueao8tXi7"
      },
      "execution_count": null,
      "outputs": []
    },
    {
      "cell_type": "markdown",
      "source": [
        "Doing the Box plot"
      ],
      "metadata": {
        "id": "GBdgtgLpafeM"
      }
    },
    {
      "cell_type": "code",
      "source": [
        "sns.boxplot(df['placement_exam_marks'])\n"
      ],
      "metadata": {
        "id": "xY3BfJbIah16"
      },
      "execution_count": null,
      "outputs": []
    },
    {
      "cell_type": "markdown",
      "source": [
        "FINDING THE OUTLIER"
      ],
      "metadata": {
        "id": "sz_T4F0MbQ_o"
      }
    },
    {
      "cell_type": "code",
      "source": [
        "#Finding THE IQR\n",
        "\n",
        "Q1 = df['placement_exam_marks'].quantile(0.25)\n",
        "Q3 = df['placement_exam_marks'].quantile(0.75)\n",
        "IQR = Q3-Q1\n",
        "IQR"
      ],
      "metadata": {
        "id": "rt94Bt-UbQPA"
      },
      "execution_count": null,
      "outputs": []
    },
    {
      "cell_type": "markdown",
      "source": [
        "Setting the Limits from the IQR"
      ],
      "metadata": {
        "id": "9MlumZ3fus-N"
      }
    },
    {
      "cell_type": "code",
      "source": [
        "Min = Q1-1.5*IQR\n",
        "Max = Q3+1.5*IQR"
      ],
      "metadata": {
        "id": "53qDJujquv1w"
      },
      "execution_count": null,
      "outputs": []
    },
    {
      "cell_type": "markdown",
      "source": [
        "# Trimming the Outliers with IQR"
      ],
      "metadata": {
        "id": "Qa7Oxww1cp2Q"
      }
    },
    {
      "cell_type": "code",
      "source": [
        "#Trimming the dataset\n",
        "new_df = df[(df['placement_exam_marks'] > Min) & (df['placement_exam_marks'] < Max)]\n",
        "new_df"
      ],
      "metadata": {
        "id": "Qxd5jQ6VcKaI"
      },
      "execution_count": null,
      "outputs": []
    },
    {
      "cell_type": "markdown",
      "source": [
        "PLOTTING THE TRIMMED GRAPH"
      ],
      "metadata": {
        "id": "E95YCNcziV8n"
      }
    },
    {
      "cell_type": "code",
      "source": [
        "plt.figure(figsize=(12,10))\n",
        "plt.subplot(1,2,1)\n",
        "\n",
        "sns.histplot(new_df['placement_exam_marks'], kde=True)\n",
        "\n",
        "plt.show()"
      ],
      "metadata": {
        "id": "aSdgDzTFiipC"
      },
      "execution_count": null,
      "outputs": []
    },
    {
      "cell_type": "markdown",
      "source": [
        "DRAWING THE BOX PLOT"
      ],
      "metadata": {
        "id": "WNZ3cF2qxN0B"
      }
    },
    {
      "cell_type": "code",
      "source": [
        "#drawing the boxplot\n",
        "sns.boxplot(new_df['placement_exam_marks'])"
      ],
      "metadata": {
        "id": "hMvagFMXxUfx"
      },
      "execution_count": null,
      "outputs": []
    },
    {
      "cell_type": "markdown",
      "source": [
        "# Capping After IQR"
      ],
      "metadata": {
        "id": "2WB1CVqJfO-o"
      }
    },
    {
      "cell_type": "code",
      "source": [
        "Min"
      ],
      "metadata": {
        "id": "DVoUFQSMhGFs"
      },
      "execution_count": null,
      "outputs": []
    },
    {
      "cell_type": "code",
      "source": [
        "Max"
      ],
      "metadata": {
        "id": "FT0djViUhA3E"
      },
      "execution_count": null,
      "outputs": []
    },
    {
      "cell_type": "markdown",
      "source": [
        "In np.where ( X , y , z )\n",
        "X is the condition\n",
        "Y happens if X condition is satisfied\n",
        "Z happens if X is not satisfied"
      ],
      "metadata": {
        "id": "vQ2-1LIfhNBx"
      }
    },
    {
      "cell_type": "code",
      "source": [
        "df['placement_exam_marks_capped'] = np.where(\n",
        "      df['placement_exam_marks'] > Max, Max,\n",
        "      np.where(\n",
        "          df['placement_exam_marks'] < Min,\n",
        "          Min,\n",
        "          df['placement_exam_marks']\n",
        "      )\n",
        "  )"
      ],
      "metadata": {
        "id": "88uMQDtygIsN"
      },
      "execution_count": null,
      "outputs": []
    },
    {
      "cell_type": "markdown",
      "source": [
        "We put upper limit and Lower limit in a variable\n",
        "\n",
        "If the cgpa data is more than the upper limit then we put the upper limit in that cgpa's data\n",
        "\n",
        " But ,\n",
        "\n",
        " If the cgpa data is less than the lower limit then we put the lower limit in the place of the cgpa data"
      ],
      "metadata": {
        "id": "xKHuhhBzgjfa"
      }
    },
    {
      "cell_type": "code",
      "source": [
        "df"
      ],
      "metadata": {
        "id": "vovhWaAohiiV"
      },
      "execution_count": null,
      "outputs": []
    },
    {
      "cell_type": "code",
      "source": [
        "df['placement_exam_marks'].describe()"
      ],
      "metadata": {
        "id": "GDKa9k0ViJRj"
      },
      "execution_count": null,
      "outputs": []
    },
    {
      "cell_type": "code",
      "source": [
        "plt.figure(figsize=(12,10))\n",
        "plt.subplot(1,2,1)\n",
        "\n",
        "sns.histplot(df['placement_exam_marks_capped'], kde=True)\n",
        "\n",
        "\n",
        "\n",
        "plt.show()"
      ],
      "metadata": {
        "id": "uyfmg4LpjTRJ"
      },
      "execution_count": null,
      "outputs": []
    },
    {
      "cell_type": "markdown",
      "source": [
        "DRAWING THE BOX PLOT"
      ],
      "metadata": {
        "id": "rQSEk0CjxnFO"
      }
    },
    {
      "cell_type": "code",
      "source": [
        "#Drawing the Boxplot\n",
        "sns.boxplot(df['placement_exam_marks_capped'])"
      ],
      "metadata": {
        "id": "Rr6lKfrmxmzf"
      },
      "execution_count": null,
      "outputs": []
    }
  ]
}