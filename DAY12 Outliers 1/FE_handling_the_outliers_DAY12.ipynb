{
  "nbformat": 4,
  "nbformat_minor": 0,
  "metadata": {
    "colab": {
      "private_outputs": true,
      "provenance": []
    },
    "kernelspec": {
      "name": "python3",
      "display_name": "Python 3"
    },
    "language_info": {
      "name": "python"
    }
  },
  "cells": [
    {
      "cell_type": "markdown",
      "source": [
        "# HANDLING The Outliers\n",
        "\n",
        "\n",
        "#  Trimming and Capping"
      ],
      "metadata": {
        "id": "u93QB4H8gs0F"
      }
    },
    {
      "cell_type": "markdown",
      "source": [
        "IMPORTING DATA SCIENCE LIBRARIES"
      ],
      "metadata": {
        "id": "I2xjrloHcxJQ"
      }
    },
    {
      "cell_type": "code",
      "execution_count": null,
      "metadata": {
        "id": "JF9RMWnFZYq3"
      },
      "outputs": [],
      "source": [
        "import numpy as np\n",
        "import pandas as pd\n",
        "import matplotlib.pyplot as plt\n",
        "import seaborn as sns\n"
      ]
    },
    {
      "cell_type": "markdown",
      "source": [
        "IMPORTING MACHINE LEARNING LIBRARIES AND CLASSES"
      ],
      "metadata": {
        "id": "eQYW8ynycqpU"
      }
    },
    {
      "cell_type": "code",
      "source": [
        "\n",
        "from sklearn.model_selection import train_test_split               #for splitting the data into test and training data\n",
        "from sklearn.compose import ColumnTransformer                       #for transforming the columns\n",
        "from sklearn.impute import SimpleImputer                             #for imputing the missing values\n",
        "from sklearn.preprocessing import OneHotEncoder                      #one hot encoding\n",
        "from sklearn.preprocessing import MinMaxScaler                        #standard scaling\n",
        "\n",
        "\n",
        "from sklearn.metrics import accuracy_score                 # for accuracy score\n",
        "from sklearn.model_selection import cross_val_score        # for cross validation score\n"
      ],
      "metadata": {
        "id": "TaUQd0m-afNa"
      },
      "execution_count": null,
      "outputs": []
    },
    {
      "cell_type": "code",
      "source": [
        "from google.colab import files    # we are importing the file from the device\n",
        "uploaded = files.upload()"
      ],
      "metadata": {
        "id": "LyA9ckDSZ1Ra"
      },
      "execution_count": null,
      "outputs": []
    },
    {
      "cell_type": "code",
      "source": [
        "df=pd.read_csv('placement .extra.csv')   #fitting the data in the df dataframe\n",
        "df.head()"
      ],
      "metadata": {
        "id": "paRuHdlDaWqd"
      },
      "execution_count": null,
      "outputs": []
    },
    {
      "cell_type": "code",
      "source": [
        "df.info()"
      ],
      "metadata": {
        "id": "wCHVmYR_fag7"
      },
      "execution_count": null,
      "outputs": []
    },
    {
      "cell_type": "code",
      "source": [
        "df.describe()"
      ],
      "metadata": {
        "id": "UbV7iabMfcp3"
      },
      "execution_count": null,
      "outputs": []
    },
    {
      "cell_type": "code",
      "source": [
        "df.isnull().sum()"
      ],
      "metadata": {
        "id": "nrUIXvhGfh6_"
      },
      "execution_count": null,
      "outputs": []
    },
    {
      "cell_type": "code",
      "source": [
        "plt.figure(figsize=(12,10))\n",
        "plt.subplot(1,2,1)\n",
        "\n",
        "sns.histplot(df['cgpa'], kde=True)\n",
        "\n",
        "plt.subplot(1,2,2)\n",
        "sns.histplot(df['placement_exam_marks'] , kde=True)"
      ],
      "metadata": {
        "id": "_9shwYygXk5n"
      },
      "execution_count": null,
      "outputs": []
    },
    {
      "cell_type": "markdown",
      "source": [
        "Finding the Boundary"
      ],
      "metadata": {
        "id": "GBdgtgLpafeM"
      }
    },
    {
      "cell_type": "code",
      "source": [
        "print (\"Lowest allowed -\", df['cgpa'].quantile(0.01))\n",
        "print (\"Highest allowed -\",df['cgpa'].quantile(0.99))"
      ],
      "metadata": {
        "id": "xY3BfJbIah16"
      },
      "execution_count": null,
      "outputs": []
    },
    {
      "cell_type": "markdown",
      "source": [
        "FINDING THE OUTLIER"
      ],
      "metadata": {
        "id": "sz_T4F0MbQ_o"
      }
    },
    {
      "cell_type": "code",
      "source": [
        "df[(df['cgpa'] > 8.5)  | (df['cgpa'] < 5.4)]"
      ],
      "metadata": {
        "id": "rt94Bt-UbQPA"
      },
      "execution_count": null,
      "outputs": []
    },
    {
      "cell_type": "markdown",
      "source": [
        "# Trimming the Outliers"
      ],
      "metadata": {
        "id": "Qa7Oxww1cp2Q"
      }
    },
    {
      "cell_type": "code",
      "source": [
        "#Trimming the dataset\n",
        "new_df = df[(df['cgpa'] < 8.5)  & (df['cgpa'] > 5.4)]\n",
        "new_df"
      ],
      "metadata": {
        "id": "Qxd5jQ6VcKaI"
      },
      "execution_count": null,
      "outputs": []
    },
    {
      "cell_type": "markdown",
      "source": [
        "PLOTTING THE TRIMMED GRAPH"
      ],
      "metadata": {
        "id": "E95YCNcziV8n"
      }
    },
    {
      "cell_type": "code",
      "source": [
        "plt.figure(figsize=(12,10))\n",
        "plt.subplot(1,2,1)\n",
        "\n",
        "sns.histplot(new_df['cgpa'], kde=True)\n",
        "\n",
        "plt.show()"
      ],
      "metadata": {
        "id": "aSdgDzTFiipC"
      },
      "execution_count": null,
      "outputs": []
    },
    {
      "cell_type": "markdown",
      "source": [
        "# Z-score Calculation & Outlier Removal"
      ],
      "metadata": {
        "id": "3xGXCHMGc632"
      }
    },
    {
      "cell_type": "code",
      "source": [
        "#Calculating the Z-SCORE\n",
        "\n",
        "df['cgpa_zscore'] = (df['cgpa'] - df['cgpa'].mean())/df['cgpa'].std()\n",
        "df"
      ],
      "metadata": {
        "id": "KBrxKdRaf2tX"
      },
      "execution_count": null,
      "outputs": []
    },
    {
      "cell_type": "markdown",
      "source": [
        "Now we only Gonna keep the students that have a Z-score from -3 to +3"
      ],
      "metadata": {
        "id": "2ZwmUWx6dRTl"
      }
    },
    {
      "cell_type": "code",
      "source": [
        "new_df2  = df[(df['cgpa_zscore'] < 3) & (df['cgpa_zscore'] > -3)]\n",
        "new_df2"
      ],
      "metadata": {
        "id": "OrVtViXBdYKS"
      },
      "execution_count": null,
      "outputs": []
    },
    {
      "cell_type": "code",
      "source": [
        "new_df2.shape"
      ],
      "metadata": {
        "id": "xZXZH0GUdyHp"
      },
      "execution_count": null,
      "outputs": []
    },
    {
      "cell_type": "markdown",
      "source": [
        "To find the outlier through Z-score"
      ],
      "metadata": {
        "id": "50b-jNwueARp"
      }
    },
    {
      "cell_type": "code",
      "source": [
        "df_outlier  = df[(df['cgpa_zscore'] > 3) | (df['cgpa_zscore'] < -3)]\n",
        "df_outlier"
      ],
      "metadata": {
        "id": "0NlPoGYVeJSK"
      },
      "execution_count": null,
      "outputs": []
    },
    {
      "cell_type": "markdown",
      "source": [
        "PLOTTING THE GRAPH AFTER CALCULATING THE Z-SCORE"
      ],
      "metadata": {
        "id": "1gAV1Ni2jdAz"
      }
    },
    {
      "cell_type": "code",
      "source": [
        "plt.figure(figsize=(12,10))\n",
        "plt.subplot(1,2,1)\n",
        "\n",
        "sns.histplot(new_df2['cgpa_zscore'], kde=True)\n",
        "\n",
        "plt.show()"
      ],
      "metadata": {
        "id": "qJIwR6HIi5rg"
      },
      "execution_count": null,
      "outputs": []
    },
    {
      "cell_type": "markdown",
      "source": [
        "# Capping"
      ],
      "metadata": {
        "id": "2WB1CVqJfO-o"
      }
    },
    {
      "cell_type": "code",
      "source": [
        "upper_limit = df['cgpa'].mean()+3*df['cgpa'].std()\n",
        "lower_limit = df['cgpa'].mean()- 3*df['cgpa'].std()"
      ],
      "metadata": {
        "id": "0toFltWIfTPi"
      },
      "execution_count": null,
      "outputs": []
    },
    {
      "cell_type": "code",
      "source": [
        "upper_limit"
      ],
      "metadata": {
        "id": "DVoUFQSMhGFs"
      },
      "execution_count": null,
      "outputs": []
    },
    {
      "cell_type": "code",
      "source": [
        "lower_limit"
      ],
      "metadata": {
        "id": "FT0djViUhA3E"
      },
      "execution_count": null,
      "outputs": []
    },
    {
      "cell_type": "markdown",
      "source": [
        "In np.where ( X , y , z )\n",
        "X is the condition\n",
        "Y happens if X condition is satisfied\n",
        "Z happens if X is not satisfied"
      ],
      "metadata": {
        "id": "vQ2-1LIfhNBx"
      }
    },
    {
      "cell_type": "code",
      "source": [
        "df['cgpa_capped'] = np.where(\n",
        "      df['cgpa'] > upper_limit, upper_limit,\n",
        "      np.where(\n",
        "          df['cgpa'] < lower_limit,\n",
        "          lower_limit,\n",
        "          df['cgpa']\n",
        "      )\n",
        "  )"
      ],
      "metadata": {
        "id": "88uMQDtygIsN"
      },
      "execution_count": null,
      "outputs": []
    },
    {
      "cell_type": "markdown",
      "source": [
        "We put upper limit and Lower limit in a variable\n",
        "\n",
        "If the cgpa data is more than the upper limit then we put the upper limit in that cgpa's data\n",
        "\n",
        " But ,\n",
        "\n",
        " If the cgpa data is less than the lower limit then we put the lower limit in the place of the cgpa data"
      ],
      "metadata": {
        "id": "xKHuhhBzgjfa"
      }
    },
    {
      "cell_type": "code",
      "source": [
        "df"
      ],
      "metadata": {
        "id": "vovhWaAohiiV"
      },
      "execution_count": null,
      "outputs": []
    },
    {
      "cell_type": "code",
      "source": [
        "df['cgpa'].describe()"
      ],
      "metadata": {
        "id": "GDKa9k0ViJRj"
      },
      "execution_count": null,
      "outputs": []
    },
    {
      "cell_type": "code",
      "source": [
        "plt.figure(figsize=(12,10))\n",
        "plt.subplot(1,2,1)\n",
        "\n",
        "sns.histplot(df['cgpa_capped'], kde=True)\n",
        "\n",
        "plt.show()"
      ],
      "metadata": {
        "id": "uyfmg4LpjTRJ"
      },
      "execution_count": null,
      "outputs": []
    }
  ]
}