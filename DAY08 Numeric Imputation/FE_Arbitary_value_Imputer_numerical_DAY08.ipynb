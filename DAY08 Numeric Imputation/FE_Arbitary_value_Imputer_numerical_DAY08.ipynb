{
  "nbformat": 4,
  "nbformat_minor": 0,
  "metadata": {
    "colab": {
      "private_outputs": true,
      "provenance": [],
      "toc_visible": true,
      "gpuType": "T4"
    },
    "kernelspec": {
      "name": "python3",
      "display_name": "Python 3"
    },
    "language_info": {
      "name": "python"
    },
    "accelerator": "GPU"
  },
  "cells": [
    {
      "cell_type": "markdown",
      "source": [
        "# HANDLING MISSING VALUES - Arbitary value IMPUTER\n",
        "\n",
        "\n",
        "#  NUMERICAL DATA"
      ],
      "metadata": {
        "id": "u93QB4H8gs0F"
      }
    },
    {
      "cell_type": "markdown",
      "source": [
        "IMPORTING DATA SCIENCE LIBRARIES"
      ],
      "metadata": {
        "id": "I2xjrloHcxJQ"
      }
    },
    {
      "cell_type": "code",
      "execution_count": null,
      "metadata": {
        "id": "JF9RMWnFZYq3"
      },
      "outputs": [],
      "source": [
        "import numpy as np\n",
        "import pandas as pd\n",
        "import matplotlib.pyplot as plt\n",
        "import seaborn as sns\n"
      ]
    },
    {
      "cell_type": "markdown",
      "source": [
        "IMPORTING MACHINE LEARNING LIBRARIES AND CLASSES"
      ],
      "metadata": {
        "id": "eQYW8ynycqpU"
      }
    },
    {
      "cell_type": "code",
      "source": [
        "\n",
        "from sklearn.model_selection import train_test_split               #for splitting the data into test and training data\n",
        "from sklearn.compose import ColumnTransformer                       #for transforming the columns\n",
        "from sklearn.impute import SimpleImputer                             #for imputing the missing values\n",
        "from sklearn.preprocessing import OneHotEncoder                      #one hot encoding\n",
        "from sklearn.preprocessing import MinMaxScaler                        #standard scaling\n",
        "\n",
        "\n",
        "from sklearn.metrics import accuracy_score                 # for accuracy score\n",
        "from sklearn.model_selection import cross_val_score        # for cross validation score\n"
      ],
      "metadata": {
        "id": "TaUQd0m-afNa"
      },
      "execution_count": null,
      "outputs": []
    },
    {
      "cell_type": "code",
      "source": [
        "from google.colab import files    # we are importing the file from the device\n",
        "uploaded = files.upload()"
      ],
      "metadata": {
        "id": "LyA9ckDSZ1Ra"
      },
      "execution_count": null,
      "outputs": []
    },
    {
      "cell_type": "code",
      "source": [
        "df=pd.read_csv('titanic_toy.csv')   #fitting the data in the df dataframe\n",
        "df.head()"
      ],
      "metadata": {
        "id": "paRuHdlDaWqd"
      },
      "execution_count": null,
      "outputs": []
    },
    {
      "cell_type": "code",
      "source": [
        "df.info()"
      ],
      "metadata": {
        "id": "wCHVmYR_fag7"
      },
      "execution_count": null,
      "outputs": []
    },
    {
      "cell_type": "code",
      "source": [
        "df.describe()"
      ],
      "metadata": {
        "id": "UbV7iabMfcp3"
      },
      "execution_count": null,
      "outputs": []
    },
    {
      "cell_type": "code",
      "source": [
        "df.isnull().sum()"
      ],
      "metadata": {
        "id": "nrUIXvhGfh6_"
      },
      "execution_count": null,
      "outputs": []
    },
    {
      "cell_type": "code",
      "source": [
        "df.isnull().mean()"
      ],
      "metadata": {
        "id": "gKV6ddr3fxpl"
      },
      "execution_count": null,
      "outputs": []
    },
    {
      "cell_type": "code",
      "source": [
        "X = df.drop(columns='Survived')         #extracting the columns and Y columns tegether for input and output\n",
        "y = df['Survived']"
      ],
      "metadata": {
        "id": "KBrxKdRaf2tX"
      },
      "execution_count": null,
      "outputs": []
    },
    {
      "cell_type": "markdown",
      "source": [
        "# TREAINING AND TEST DETA SET"
      ],
      "metadata": {
        "id": "CaKlVLUvih4d"
      }
    },
    {
      "cell_type": "code",
      "source": [
        "X_train,X_test,y_train,y_test = train_test_split(X,y,test_size=0.2,random_state=2)"
      ],
      "metadata": {
        "id": "YQzxdwfFiq8O"
      },
      "execution_count": null,
      "outputs": []
    },
    {
      "cell_type": "code",
      "source": [
        "X_train.shape , X_test.shape"
      ],
      "metadata": {
        "id": "-UF-V6Fxivvh"
      },
      "execution_count": null,
      "outputs": []
    },
    {
      "cell_type": "code",
      "source": [
        "X_train.isnull().mean()"
      ],
      "metadata": {
        "id": "kq_iNig2jG6V"
      },
      "execution_count": null,
      "outputs": []
    },
    {
      "cell_type": "markdown",
      "source": [
        "Missing values percent in age is 5 percentage\n",
        "and missing values are of 20pwec"
      ],
      "metadata": {
        "id": "RZek0MpzjQ0S"
      }
    },
    {
      "cell_type": "markdown",
      "source": [
        "# Adding 2 new arbitary columns for Age\n",
        "\n",
        "# and 2 new arbitary columns for Fare"
      ],
      "metadata": {
        "id": "ujPJiBjrmi3p"
      }
    },
    {
      "cell_type": "code",
      "source": [
        "X_train['Age_99'] = X_train['Age'].fillna(99)\n",
        "X_train['Age_minus1'] = X_train['Age'].fillna(-1)\n",
        "\n",
        "\n",
        "X_train['Fare_999'] = X_train['Fare'].fillna(999)\n",
        "X_train['Fare_minus1'] = X_train['Fare'].fillna(-1)\n",
        "\n",
        "X_train.head()"
      ],
      "metadata": {
        "id": "1_Tq2zqNlC1c"
      },
      "execution_count": null,
      "outputs": []
    },
    {
      "cell_type": "markdown",
      "source": [
        "# Calculating the varience"
      ],
      "metadata": {
        "id": "Eo-COc8kmQ52"
      }
    },
    {
      "cell_type": "code",
      "source": [
        "print (X_train['Age'].var())\n",
        "print(X_train['Age_99'].var())\n",
        "print(X_train['Age_minus1'].var())"
      ],
      "metadata": {
        "id": "85H3cWo4lsip"
      },
      "execution_count": null,
      "outputs": []
    },
    {
      "cell_type": "code",
      "source": [
        "print (X_train['Fare'].var())\n",
        "print(X_train['Fare_999'].var())\n",
        "print(X_train['Fare_minus1'].var())"
      ],
      "metadata": {
        "id": "j2hhYZAjmFtg"
      },
      "execution_count": null,
      "outputs": []
    },
    {
      "cell_type": "markdown",
      "source": [
        "# Plotting the graph"
      ],
      "metadata": {
        "id": "rXi5zJdzmXPs"
      }
    },
    {
      "cell_type": "code",
      "source": [
        "fig =plt.figure()\n",
        "ax = fig.add_subplot(111)\n",
        "\n",
        "#orginal distribution\n",
        "X_train['Age'].plot(kind='kde', ax=ax)\n",
        "#when we updated the value with median\n",
        "X_train['Age_minus1'].plot(kind='kde', ax=ax, color='red')\n",
        "X_train['Age_99'].plot(kind='kde', ax=ax, color='green')\n",
        "\n",
        "\n",
        "ax.legend(loc='best', fontsize='small')\n",
        "plt.show()\n",
        "\n",
        "\n",
        "fig =plt.figure()\n",
        "ax = fig.add_subplot(111)\n",
        "\n",
        "#orginal distribution\n",
        "X_train['Fare'].plot(kind='kde', ax=ax)\n",
        "#when we updated the value with median\n",
        "X_train['Fare_minus1'].plot(kind='kde', ax=ax , color='red')\n",
        "X_train['Fare_999'].plot(kind='kde', ax=ax , color='green')\n",
        "\n",
        "ax.legend(loc='best', fontsize='small')\n",
        "plt.show()\n"
      ],
      "metadata": {
        "id": "uaP1Zfsrp67Z"
      },
      "execution_count": null,
      "outputs": []
    },
    {
      "cell_type": "markdown",
      "source": [
        "# Seeing the Coveariance"
      ],
      "metadata": {
        "id": "ezE6f2uAqP7S"
      }
    },
    {
      "cell_type": "code",
      "source": [
        "X_train.cov()"
      ],
      "metadata": {
        "id": "rWRxJBn7qarL"
      },
      "execution_count": null,
      "outputs": []
    },
    {
      "cell_type": "code",
      "source": [
        "X_train.corr()"
      ],
      "metadata": {
        "id": "FIq3Cix8q66Z"
      },
      "execution_count": null,
      "outputs": []
    },
    {
      "cell_type": "markdown",
      "source": [
        "# Box-plot"
      ],
      "metadata": {
        "id": "eV7L1sRSuwnT"
      }
    },
    {
      "cell_type": "code",
      "source": [
        "X_train[['Age','Age_99','Age_minus1']].boxplot()"
      ],
      "metadata": {
        "id": "RWkCVrpSu0y6"
      },
      "execution_count": null,
      "outputs": []
    },
    {
      "cell_type": "code",
      "source": [
        "X_train[['Fare','Fare_999','Fare_minus1']].boxplot()"
      ],
      "metadata": {
        "id": "zNb-x7ALwjVG"
      },
      "execution_count": null,
      "outputs": []
    },
    {
      "cell_type": "markdown",
      "source": [
        "# Using Sklearn"
      ],
      "metadata": {
        "id": "qZXb0zS0w28M"
      }
    },
    {
      "cell_type": "markdown",
      "source": [
        "We are splitting the dataset again from beginning"
      ],
      "metadata": {
        "id": "6rDvYHLiWLKQ"
      }
    },
    {
      "cell_type": "code",
      "source": [
        "X_train,X_test,y_train,y_test = train_test_split(X,y,test_size=0.2,random_state=2)"
      ],
      "metadata": {
        "id": "hJkj186lWIoQ"
      },
      "execution_count": null,
      "outputs": []
    },
    {
      "cell_type": "markdown",
      "source": [
        "We going to fill the missing value with a constant"
      ],
      "metadata": {
        "id": "c0COt9LLWTi3"
      }
    },
    {
      "cell_type": "code",
      "source": [
        "imputer1 = SimpleImputer(strategy='constant', fill_value=-1)\n",
        "imputer2 = SimpleImputer(strategy='constant', fill_value=99)"
      ],
      "metadata": {
        "id": "NPedgvKcw-MT"
      },
      "execution_count": null,
      "outputs": []
    },
    {
      "cell_type": "code",
      "source": [
        "trf = ColumnTransformer([\n",
        "    ('A1',imputer1,['Age']),        #A1 going to give the column of -1\n",
        "    ('A2',imputer2,['Age']),         #A2 going to give the column of 99\n",
        "    ('B1',imputer1,['Fare']),        #B1 going to give the column of -1\n",
        "    ('B2',imputer2,['Fare'])         #B2 going to give the column of 99\n",
        "],remainder='passthrough')"
      ],
      "metadata": {
        "id": "ZEg2RlgDxk7z"
      },
      "execution_count": null,
      "outputs": []
    },
    {
      "cell_type": "code",
      "source": [
        "trf.fit(X_train)"
      ],
      "metadata": {
        "id": "DZGSGqXFxpxy"
      },
      "execution_count": null,
      "outputs": []
    },
    {
      "cell_type": "code",
      "source": [
        "trf.named_transformers_['A1'].statistics_"
      ],
      "metadata": {
        "id": "DY_6dFLdxtod"
      },
      "execution_count": null,
      "outputs": []
    },
    {
      "cell_type": "code",
      "source": [
        "trf.named_transformers_['A2'].statistics_"
      ],
      "metadata": {
        "id": "-8a8oB8vx0Yo"
      },
      "execution_count": null,
      "outputs": []
    },
    {
      "cell_type": "code",
      "source": [
        "trf.named_transformers_['B1'].statistics_"
      ],
      "metadata": {
        "id": "D111uYcqzYLy"
      },
      "execution_count": null,
      "outputs": []
    },
    {
      "cell_type": "code",
      "source": [
        "trf.named_transformers_['B2'].statistics_"
      ],
      "metadata": {
        "id": "rZzslJFjzYIW"
      },
      "execution_count": null,
      "outputs": []
    }
  ]
}