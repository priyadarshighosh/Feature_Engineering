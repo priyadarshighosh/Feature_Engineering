{
  "nbformat": 4,
  "nbformat_minor": 0,
  "metadata": {
    "colab": {
      "private_outputs": true,
      "provenance": [],
      "authorship_tag": "ABX9TyNw118SoImXjMcmbIR8SkBx",
      "include_colab_link": true
    },
    "kernelspec": {
      "name": "python3",
      "display_name": "Python 3"
    },
    "language_info": {
      "name": "python"
    }
  },
  "cells": [
    {
      "cell_type": "markdown",
      "metadata": {
        "id": "view-in-github",
        "colab_type": "text"
      },
      "source": [
        "<a href=\"https://colab.research.google.com/github/priyadarshighosh/Feature_Engineering/blob/main/DAY04/FE_Binarization_DAY04.ipynb\" target=\"_parent\"><img src=\"https://colab.research.google.com/assets/colab-badge.svg\" alt=\"Open In Colab\"/></a>"
      ]
    },
    {
      "cell_type": "markdown",
      "source": [
        "# BINARIZATION  ( DISCRETIZATION )"
      ],
      "metadata": {
        "id": "yLJxe2CnLU3I"
      }
    },
    {
      "cell_type": "markdown",
      "source": [
        "IMPORTING PYTHON DATASCIENCE LIBRARIES"
      ],
      "metadata": {
        "id": "ZayYXZAdLfl_"
      }
    },
    {
      "cell_type": "code",
      "execution_count": null,
      "metadata": {
        "id": "hINw2mnmEGIo"
      },
      "outputs": [],
      "source": [
        "import numpy as np\n",
        "import pandas as pd\n",
        "import matplotlib.pyplot as plt\n",
        "import seaborn as sns\n"
      ]
    },
    {
      "cell_type": "markdown",
      "source": [
        "IMPORTING PYTHON MACHINE LEARNING LIBRARIES"
      ],
      "metadata": {
        "id": "CuZdfw_RLiRT"
      }
    },
    {
      "cell_type": "code",
      "source": [
        "from sklearn.model_selection import train_test_split               #for splitting the data into test and training data\n",
        "from sklearn.compose import ColumnTransformer                       #for transforming the columns\n",
        "from sklearn.impute import SimpleImputer                             #for imputing the missing values\n",
        "from sklearn.preprocessing import OneHotEncoder                      #one hot encoding\n",
        "from sklearn.preprocessing import MinMaxScaler                        #standard scaling\n",
        "\n",
        "\n",
        "from sklearn.metrics import accuracy_score\n",
        "from sklearn.model_selection import cross_val_score\n",
        "\n",
        "\n",
        "from sklearn.preprocessing import KBinsDiscretizer\n",
        "from sklearn.feature_selection import SelectKBest,chi2                 #feature selection                     #standard scaling\n",
        "from sklearn.tree import DecisionTreeClassifier"
      ],
      "metadata": {
        "id": "x_wUcts7fwQx"
      },
      "execution_count": null,
      "outputs": []
    },
    {
      "cell_type": "markdown",
      "source": [
        "UPLOADING THE DATASET"
      ],
      "metadata": {
        "id": "fmgdfNmOLlj4"
      }
    },
    {
      "cell_type": "code",
      "source": [
        "from google.colab import files    # we are importing the file from the device\n",
        "uploaded = files.upload()\n"
      ],
      "metadata": {
        "id": "yL_tllkZGUGW"
      },
      "execution_count": null,
      "outputs": []
    },
    {
      "cell_type": "code",
      "source": [
        "df=pd.read_csv('Titanic-Dataset.csv')   #fitting the data in the df dataframe\n",
        "df.head()\n"
      ],
      "metadata": {
        "id": "bzxb4FxqGZDi"
      },
      "execution_count": null,
      "outputs": []
    },
    {
      "cell_type": "markdown",
      "source": [
        "we are just using 3 columns Age , Fare and Survived"
      ],
      "metadata": {
        "id": "zc-LzykCR4iA"
      }
    },
    {
      "cell_type": "code",
      "source": [
        "df = pd.read_csv('Titanic-Dataset.csv', usecols= ['Age','Fare','SibSp','Parch','Survived'])"
      ],
      "metadata": {
        "id": "lN1Go1E-RsDp"
      },
      "execution_count": null,
      "outputs": []
    },
    {
      "cell_type": "code",
      "source": [
        "df.head()"
      ],
      "metadata": {
        "id": "Ll8Em1mFSgWr"
      },
      "execution_count": null,
      "outputs": []
    },
    {
      "cell_type": "markdown",
      "source": [
        "Dropping the rows that have null values"
      ],
      "metadata": {
        "id": "HzZkMhfbR4FN"
      }
    },
    {
      "cell_type": "markdown",
      "source": [
        "# DROPPING ROWS WITH NULL VALUES"
      ],
      "metadata": {
        "id": "pfc6y3oHaRAq"
      }
    },
    {
      "cell_type": "code",
      "source": [
        "df.dropna(inplace=True)"
      ],
      "metadata": {
        "id": "rRUIjyJGRs70"
      },
      "execution_count": null,
      "outputs": []
    },
    {
      "cell_type": "markdown",
      "source": [
        "Adding a family column to the dataset"
      ],
      "metadata": {
        "id": "eCSZwWWnzpCy"
      }
    },
    {
      "cell_type": "code",
      "source": [
        "df['family'] = df['SibSp'] + df['Parch']\n",
        "df.drop(columns=['SibSp','Parch'],inplace=True)\n",
        "df.head()"
      ],
      "metadata": {
        "id": "W4YKET6iy7YO"
      },
      "execution_count": null,
      "outputs": []
    },
    {
      "cell_type": "code",
      "source": [
        "df.shape"
      ],
      "metadata": {
        "id": "cHuYcp48SRMD"
      },
      "execution_count": null,
      "outputs": []
    },
    {
      "cell_type": "code",
      "source": [
        "X = df.drop(columns=['Survived'])\n",
        "y = df['Survived']\n"
      ],
      "metadata": {
        "id": "KBolEAWWRx9o"
      },
      "execution_count": null,
      "outputs": []
    },
    {
      "cell_type": "markdown",
      "source": [
        "Dropping the Sibsp and Parch columns as we have already added it to family column"
      ],
      "metadata": {
        "id": "K-fmSXhezcYD"
      }
    },
    {
      "cell_type": "markdown",
      "source": [
        "# TRAIN  /  TEST SPLIT"
      ],
      "metadata": {
        "id": "Eh0VI0UmSsVC"
      }
    },
    {
      "cell_type": "code",
      "source": [
        "X_train,X_test,y_train,y_test = train_test_split(X,y,test_size=0.2,random_state=42)"
      ],
      "metadata": {
        "id": "YFWwhiXbSzlV"
      },
      "execution_count": null,
      "outputs": []
    },
    {
      "cell_type": "code",
      "source": [
        "X_train.head()"
      ],
      "metadata": {
        "id": "VrdC4LbWTCYP"
      },
      "execution_count": null,
      "outputs": []
    },
    {
      "cell_type": "code",
      "source": [
        "X_test.head()"
      ],
      "metadata": {
        "id": "PHugbWkOTE32"
      },
      "execution_count": null,
      "outputs": []
    },
    {
      "cell_type": "code",
      "source": [
        "y_train"
      ],
      "metadata": {
        "id": "kqggO64ETIGE"
      },
      "execution_count": null,
      "outputs": []
    },
    {
      "cell_type": "code",
      "source": [
        "y_test"
      ],
      "metadata": {
        "id": "ex29b59JUU5V"
      },
      "execution_count": null,
      "outputs": []
    },
    {
      "cell_type": "markdown",
      "source": [
        "# Without BINARIZATION TRANSFORMATION"
      ],
      "metadata": {
        "id": "tjdz7RrCZ1Fl"
      }
    },
    {
      "cell_type": "markdown",
      "source": [
        "USING DECISION TREE"
      ],
      "metadata": {
        "id": "YXhR1BTpZ-5K"
      }
    },
    {
      "cell_type": "code",
      "source": [
        "clf = DecisionTreeClassifier()\n",
        "clf.fit(X_train,y_train)\n",
        "\n",
        "y_pred = clf.predict(X_test)\n",
        "accuracy_score(y_test,y_pred)"
      ],
      "metadata": {
        "id": "NVRBqPKVXAAS"
      },
      "execution_count": null,
      "outputs": []
    },
    {
      "cell_type": "code",
      "source": [
        "np.mean(cross_val_score(DecisionTreeClassifier(),X,y,cv=10,scoring='accuracy'))"
      ],
      "metadata": {
        "id": "bC2Zf630W6ZH"
      },
      "execution_count": null,
      "outputs": []
    },
    {
      "cell_type": "markdown",
      "source": [
        "ACCURACY IS 62.9 AND CV SCORE IS 63.3"
      ],
      "metadata": {
        "id": "JP4oIhQBZ8sw"
      }
    },
    {
      "cell_type": "markdown",
      "source": [
        "# USING BINARIZATION TRANSFORMATION"
      ],
      "metadata": {
        "id": "d6-krZ7NaIGO"
      }
    },
    {
      "cell_type": "markdown",
      "source": [
        "If family member is 0 then alone\n",
        "else they are with someone that is any positive value above 0"
      ],
      "metadata": {
        "id": "803IoXcO2fPi"
      }
    },
    {
      "cell_type": "code",
      "source": [
        "from sklearn.preprocessing import Binarizer     #IMPORTING the binarizer from sklearn\n",
        "\n",
        "trf = ColumnTransformer([                          # threshold is already 0 ,so we didnot set anything in this case\n",
        "    ('bin',Binarizer(copy=False),['family'])       # what we are calculating is how many people are alone and how many people are with someone\n",
        "],remainder='passthrough')"
      ],
      "metadata": {
        "id": "JFgds1KQ2LBx"
      },
      "execution_count": null,
      "outputs": []
    },
    {
      "cell_type": "markdown",
      "source": [
        "TRAINING THE NEW X_train and New X_test after transformation"
      ],
      "metadata": {
        "id": "KIh3JRGidSlG"
      }
    },
    {
      "cell_type": "code",
      "source": [
        "X_train_trf = trf.fit_transform(X_train)\n",
        "X_test_trf = trf.transform(X_test)"
      ],
      "metadata": {
        "id": "_A5A3ZcrcG6n"
      },
      "execution_count": null,
      "outputs": []
    },
    {
      "cell_type": "code",
      "source": [
        "pd.DataFrame(X_train_trf, columns=['family','Age','Fare'])"
      ],
      "metadata": {
        "id": "QQjUQu9v2zqo"
      },
      "execution_count": null,
      "outputs": []
    },
    {
      "cell_type": "markdown",
      "source": [
        "# AGAIN USING DECISION TREE\n",
        "\n",
        "# Predicting and accuracy"
      ],
      "metadata": {
        "id": "y5lrjsuU5Cdh"
      }
    },
    {
      "cell_type": "code",
      "source": [
        "clf = DecisionTreeClassifier()\n",
        "clf.fit(X_train_trf,y_train)\n",
        "\n",
        "y_pred = clf.predict(X_test)\n",
        "accuracy_score(y_test,y_pred)"
      ],
      "metadata": {
        "id": "O3z5i9gF5MFp"
      },
      "execution_count": null,
      "outputs": []
    },
    {
      "cell_type": "code",
      "source": [
        "X_trf= trf.fit_transform(X)\n",
        "np.mean(cross_val_score(DecisionTreeClassifier(),X_trf,y,cv=10,scoring='accuracy'))"
      ],
      "metadata": {
        "id": "j2oZYuEI5USS"
      },
      "execution_count": null,
      "outputs": []
    },
    {
      "cell_type": "markdown",
      "source": [
        "Applying BINARIZATION OUR ACCURACY DIDNOT CHANGE MUCH"
      ],
      "metadata": {
        "id": "GE2tvbcC5dW9"
      }
    }
  ]
}