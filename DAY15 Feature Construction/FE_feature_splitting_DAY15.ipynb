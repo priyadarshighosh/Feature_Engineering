{
  "nbformat": 4,
  "nbformat_minor": 0,
  "metadata": {
    "colab": {
      "private_outputs": true,
      "provenance": []
    },
    "kernelspec": {
      "name": "python3",
      "display_name": "Python 3"
    },
    "language_info": {
      "name": "python"
    }
  },
  "cells": [
    {
      "cell_type": "markdown",
      "source": [
        "# FEATURE SPLITTING\n",
        "\n",
        "\n"
      ],
      "metadata": {
        "id": "u93QB4H8gs0F"
      }
    },
    {
      "cell_type": "markdown",
      "source": [
        "IMPORTING DATA SCIENCE LIBRARIES"
      ],
      "metadata": {
        "id": "I2xjrloHcxJQ"
      }
    },
    {
      "cell_type": "code",
      "execution_count": null,
      "metadata": {
        "id": "JF9RMWnFZYq3"
      },
      "outputs": [],
      "source": [
        "import numpy as np\n",
        "import pandas as pd\n",
        "import matplotlib.pyplot as plt\n",
        "import seaborn as sns\n"
      ]
    },
    {
      "cell_type": "markdown",
      "source": [
        "IMPORTING MACHINE LEARNING LIBRARIES AND CLASSES"
      ],
      "metadata": {
        "id": "eQYW8ynycqpU"
      }
    },
    {
      "cell_type": "code",
      "source": [
        "\n",
        "from sklearn.model_selection import train_test_split               #for splitting the data into test and training data\n",
        "from sklearn.compose import ColumnTransformer                       #for transforming the columns\n",
        "from sklearn.impute import SimpleImputer                             #for imputing the missing values\n",
        "from sklearn.preprocessing import OneHotEncoder                      #one hot encoding\n",
        "from sklearn.preprocessing import MinMaxScaler                        #standard scaling\n",
        "\n",
        "\n",
        "from sklearn.metrics import accuracy_score                 # for accuracy score\n",
        "from sklearn.model_selection import cross_val_score        # for cross validation score\n"
      ],
      "metadata": {
        "id": "TaUQd0m-afNa"
      },
      "execution_count": null,
      "outputs": []
    },
    {
      "cell_type": "code",
      "source": [
        "from google.colab import files    # we are importing the file from the device\n",
        "uploaded = files.upload()"
      ],
      "metadata": {
        "id": "LyA9ckDSZ1Ra"
      },
      "execution_count": null,
      "outputs": []
    },
    {
      "cell_type": "code",
      "source": [
        "df=pd.read_csv('Titanic-Dataset.csv')  #fitting the data in the df dataframe\n",
        "df.head()"
      ],
      "metadata": {
        "id": "paRuHdlDaWqd"
      },
      "execution_count": null,
      "outputs": []
    },
    {
      "cell_type": "code",
      "source": [
        "df.shape"
      ],
      "metadata": {
        "id": "RfJD6TjF3zNm"
      },
      "execution_count": null,
      "outputs": []
    },
    {
      "cell_type": "code",
      "source": [
        "df.info()"
      ],
      "metadata": {
        "id": "wCHVmYR_fag7"
      },
      "execution_count": null,
      "outputs": []
    },
    {
      "cell_type": "code",
      "source": [
        "df.describe()"
      ],
      "metadata": {
        "id": "UbV7iabMfcp3"
      },
      "execution_count": null,
      "outputs": []
    },
    {
      "cell_type": "code",
      "source": [
        "df\n"
      ],
      "metadata": {
        "id": "_9shwYygXk5n"
      },
      "execution_count": null,
      "outputs": []
    },
    {
      "cell_type": "markdown",
      "source": [
        "# Splitting the name Feature"
      ],
      "metadata": {
        "id": "P-LIKHXfNOIu"
      }
    },
    {
      "cell_type": "code",
      "source": [
        "df['Title']=df['Name'].str.split(',',expand=True)[1].str.split('.',expand=True)[0]"
      ],
      "metadata": {
        "id": "AebqFVEhNSQc"
      },
      "execution_count": null,
      "outputs": []
    },
    {
      "cell_type": "code",
      "source": [
        "df[['Title', 'Name']]"
      ],
      "metadata": {
        "id": "oLHr1GnJNUj5"
      },
      "execution_count": null,
      "outputs": []
    },
    {
      "cell_type": "markdown",
      "source": [
        "Bacially the function is splitting the Name on the basis of Commas\n",
        "\n",
        " the 2nd part is going to the next function\n",
        "\n",
        " In the next function , this string is split on the basis of a dot again .\n",
        "\n",
        " and then WE take its first part\n",
        "\n",
        " IN THE TITLE"
      ],
      "metadata": {
        "id": "0buaIKnkNsT-"
      }
    },
    {
      "cell_type": "markdown",
      "source": [
        "Puting survived in Y and others in X"
      ],
      "metadata": {
        "id": "RWheO5eKGvyM"
      }
    },
    {
      "cell_type": "code",
      "source": [
        "X=df.drop(columns=['Survived'])\n",
        "y=df['Survived']"
      ],
      "metadata": {
        "id": "4qbXejt8GwZj"
      },
      "execution_count": null,
      "outputs": []
    },
    {
      "cell_type": "code",
      "source": [
        "X"
      ],
      "metadata": {
        "id": "g-RKUnqaG-qE"
      },
      "execution_count": null,
      "outputs": []
    },
    {
      "cell_type": "code",
      "source": [
        "y"
      ],
      "metadata": {
        "id": "scVlox_xHAcc"
      },
      "execution_count": null,
      "outputs": []
    }
  ]
}