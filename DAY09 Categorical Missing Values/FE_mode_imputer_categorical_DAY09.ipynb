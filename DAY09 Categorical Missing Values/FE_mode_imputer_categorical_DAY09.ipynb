{
  "nbformat": 4,
  "nbformat_minor": 0,
  "metadata": {
    "colab": {
      "private_outputs": true,
      "provenance": [],
      "gpuType": "T4"
    },
    "kernelspec": {
      "name": "python3",
      "display_name": "Python 3"
    },
    "language_info": {
      "name": "python"
    },
    "accelerator": "GPU"
  },
  "cells": [
    {
      "cell_type": "markdown",
      "source": [
        "# HANDLING MISSING VALUES - Mode IMPUTER and missing Value Column\n",
        "\n",
        "\n",
        "#  Categorical DATA"
      ],
      "metadata": {
        "id": "u93QB4H8gs0F"
      }
    },
    {
      "cell_type": "markdown",
      "source": [
        "IMPORTING DATA SCIENCE LIBRARIES"
      ],
      "metadata": {
        "id": "I2xjrloHcxJQ"
      }
    },
    {
      "cell_type": "code",
      "execution_count": null,
      "metadata": {
        "id": "JF9RMWnFZYq3"
      },
      "outputs": [],
      "source": [
        "import numpy as np\n",
        "import pandas as pd\n",
        "import matplotlib.pyplot as plt\n",
        "import seaborn as sns\n"
      ]
    },
    {
      "cell_type": "markdown",
      "source": [
        "IMPORTING MACHINE LEARNING LIBRARIES AND CLASSES"
      ],
      "metadata": {
        "id": "eQYW8ynycqpU"
      }
    },
    {
      "cell_type": "code",
      "source": [
        "\n",
        "from sklearn.model_selection import train_test_split               #for splitting the data into test and training data\n",
        "from sklearn.compose import ColumnTransformer                      #for transforming the columns\n",
        "from sklearn.impute import SimpleImputer                           #for imputing the missing values\n",
        "from sklearn.preprocessing import OneHotEncoder                    #one hot encoding\n",
        "from sklearn.preprocessing import MinMaxScaler                     #standard scaling\n",
        "\n",
        "\n",
        "from sklearn.metrics import accuracy_score                 # for accuracy score\n",
        "from sklearn.model_selection import cross_val_score        # for cross validation score\n"
      ],
      "metadata": {
        "id": "TaUQd0m-afNa"
      },
      "execution_count": null,
      "outputs": []
    },
    {
      "cell_type": "markdown",
      "source": [
        "Housing Data SET"
      ],
      "metadata": {
        "id": "ghXkYQEX8POi"
      }
    },
    {
      "cell_type": "code",
      "source": [
        "from google.colab import files    # we are importing the file from the device\n",
        "uploaded = files.upload()"
      ],
      "metadata": {
        "id": "LyA9ckDSZ1Ra"
      },
      "execution_count": null,
      "outputs": []
    },
    {
      "cell_type": "code",
      "source": [
        "df=pd.read_csv('train.csv', usecols=['GarageQual','FireplaceQu','SalePrice'])   #fitting the data in the df dataframe\n",
        "df.head()"
      ],
      "metadata": {
        "id": "paRuHdlDaWqd"
      },
      "execution_count": null,
      "outputs": []
    },
    {
      "cell_type": "code",
      "source": [
        "df.info()"
      ],
      "metadata": {
        "id": "wCHVmYR_fag7"
      },
      "execution_count": null,
      "outputs": []
    },
    {
      "cell_type": "code",
      "source": [
        "df.describe()"
      ],
      "metadata": {
        "id": "UbV7iabMfcp3"
      },
      "execution_count": null,
      "outputs": []
    },
    {
      "cell_type": "code",
      "source": [
        "df.isnull().sum()"
      ],
      "metadata": {
        "id": "nrUIXvhGfh6_"
      },
      "execution_count": null,
      "outputs": []
    },
    {
      "cell_type": "code",
      "source": [
        "df.isnull().mean()"
      ],
      "metadata": {
        "id": "gKV6ddr3fxpl"
      },
      "execution_count": null,
      "outputs": []
    },
    {
      "cell_type": "code",
      "source": [
        "X = df.drop(columns='SalePrice')         #extracting the columns and Y columns tegether for input and output\n",
        "y = df['SalePrice']"
      ],
      "metadata": {
        "id": "KBrxKdRaf2tX"
      },
      "execution_count": null,
      "outputs": []
    },
    {
      "cell_type": "markdown",
      "source": [
        "# TRAINING AND TEST DETA SET"
      ],
      "metadata": {
        "id": "CaKlVLUvih4d"
      }
    },
    {
      "cell_type": "code",
      "source": [
        "X_train,X_test,y_train,y_test = train_test_split(X,y,test_size=0.2,random_state=2)"
      ],
      "metadata": {
        "id": "YQzxdwfFiq8O"
      },
      "execution_count": null,
      "outputs": []
    },
    {
      "cell_type": "code",
      "source": [
        "X_train.shape , X_test.shape"
      ],
      "metadata": {
        "id": "-UF-V6Fxivvh"
      },
      "execution_count": null,
      "outputs": []
    },
    {
      "cell_type": "code",
      "source": [
        "X_train.isnull().mean()"
      ],
      "metadata": {
        "id": "kq_iNig2jG6V"
      },
      "execution_count": null,
      "outputs": []
    },
    {
      "cell_type": "markdown",
      "source": [
        "Missing values for FirePlace is 47perc and Missing Values for GarageQual is 5perc"
      ],
      "metadata": {
        "id": "RZek0MpzjQ0S"
      }
    },
    {
      "cell_type": "markdown",
      "source": [
        "# NOW WE WILL DO OPERATIONS ON THE 2 CATEGORICAL COLUMNS"
      ],
      "metadata": {
        "id": "oDTlrLMc-B1Q"
      }
    },
    {
      "cell_type": "code",
      "source": [
        "df['GarageQual'].value_counts().sort_values(ascending=False).plot.bar()\n",
        "plt.xlabel('GarageQual')\n",
        "plt.ylabel('No of  Houses')"
      ],
      "metadata": {
        "id": "NMgCRPqo8aCq"
      },
      "execution_count": null,
      "outputs": []
    },
    {
      "cell_type": "code",
      "source": [
        "df['GarageQual'].mode()"
      ],
      "metadata": {
        "id": "5FWAYgC992Vn"
      },
      "execution_count": null,
      "outputs": []
    },
    {
      "cell_type": "markdown",
      "source": [
        "# Plotting the graph"
      ],
      "metadata": {
        "id": "rXi5zJdzmXPs"
      }
    },
    {
      "cell_type": "code",
      "source": [
        "fig =plt.figure()\n",
        "ax = fig.add_subplot(111)\n",
        "\n",
        "df[df['GarageQual']=='TA']['SalePrice'].plot(kind='kde', ax=ax) #Calculating the salesprice of the GarageQuality is TA\n",
        "df[df['GarageQual'].isnull()]['SalePrice'].plot(kind='kde', ax=ax)#Calculating the salesprice of the GarageQuality is null\n",
        "\n",
        "lines,labels = ax.get_legend_handles_labels()\n",
        "labels = ['Houses with TA','Houses with NA']\n",
        "ax.legend(lines,labels,loc='best')\n",
        "\n",
        "\n",
        "plt.show()\n"
      ],
      "metadata": {
        "id": "uaP1Zfsrp67Z"
      },
      "execution_count": null,
      "outputs": []
    },
    {
      "cell_type": "code",
      "source": [
        "temp = df[df['GarageQual']=='TA']['SalePrice']\n",
        "\n",
        "df['GarageQual'].fillna('TA',inplace=True)\n",
        "\n",
        "df['GarageQual'].value_counts().plot(kind='bar')"
      ],
      "metadata": {
        "id": "WnPIwIjh_4ga"
      },
      "execution_count": null,
      "outputs": []
    },
    {
      "cell_type": "markdown",
      "source": [
        "# Plotting the New Graph"
      ],
      "metadata": {
        "id": "a81W7zhWAoua"
      }
    },
    {
      "cell_type": "code",
      "source": [
        "fig =plt.figure()\n",
        "ax = fig.add_subplot(111)\n",
        "\n",
        "temp.plot(kind='kde', ax=ax)\n",
        "\n",
        "#Distribution of the Variable after Imputation\n",
        "df[df['GarageQual']=='TA']['SalePrice'].plot(kind='kde', ax=ax, color='red')\n",
        "\n",
        "\n",
        "lines,labels = ax.get_legend_handles_labels()\n",
        "labels = ['Original Variable','Imputed Variable']\n",
        "ax.legend(lines,labels,loc='best')\n",
        "\n",
        "\n",
        "plt.title('GarageQual')\n",
        "plt.show()"
      ],
      "metadata": {
        "id": "Vz633Ql3Bo0E"
      },
      "execution_count": null,
      "outputs": []
    },
    {
      "cell_type": "markdown",
      "source": [
        "# Fireplace Category"
      ],
      "metadata": {
        "id": "w0K-XK1tCrOb"
      }
    },
    {
      "cell_type": "code",
      "source": [
        "df['FireplaceQu'].mode()"
      ],
      "metadata": {
        "id": "Vvjz6-uVCvY4"
      },
      "execution_count": null,
      "outputs": []
    },
    {
      "cell_type": "code",
      "source": [
        "fig =plt.figure()\n",
        "ax = fig.add_subplot(111)\n",
        "\n",
        "df[df['FireplaceQu']=='Gd']['SalePrice'].plot(kind='kde', ax=ax) #Calculating the salesprice of the GarageQuality is TA\n",
        "df[df['FireplaceQu'].isnull()]['SalePrice'].plot(kind='kde', ax=ax)#Calculating the salesprice of the GarageQuality is null\n",
        "\n",
        "lines,labels = ax.get_legend_handles_labels()\n",
        "labels = ['Houses with Gd','Houses with NA']\n",
        "ax.legend(lines,labels,loc='best')\n",
        "\n",
        "plt.title('FireplaceQu')\n",
        "plt.show()\n"
      ],
      "metadata": {
        "id": "TUBvdZ58EGlG"
      },
      "execution_count": null,
      "outputs": []
    }
  ]
}