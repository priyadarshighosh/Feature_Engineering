{
  "nbformat": 4,
  "nbformat_minor": 0,
  "metadata": {
    "colab": {
      "private_outputs": true,
      "provenance": [],
      "authorship_tag": "ABX9TyNGdJXbTZCJebussW4X3QNX",
      "include_colab_link": true
    },
    "kernelspec": {
      "name": "python3",
      "display_name": "Python 3"
    },
    "language_info": {
      "name": "python"
    }
  },
  "cells": [
    {
      "cell_type": "markdown",
      "metadata": {
        "id": "view-in-github",
        "colab_type": "text"
      },
      "source": [
        "<a href=\"https://colab.research.google.com/github/priyadarshighosh/Feature_Engineering/blob/main/DAY03/concrete_strength_power_transformation_L31.ipynb\" target=\"_parent\"><img src=\"https://colab.research.google.com/assets/colab-badge.svg\" alt=\"Open In Colab\"/></a>"
      ]
    },
    {
      "cell_type": "markdown",
      "source": [
        "# POWER TRANSFORMATION ON CEMENT QUALITY DATASET"
      ],
      "metadata": {
        "id": "q5WBHsrVBxxE"
      }
    },
    {
      "cell_type": "markdown",
      "source": [
        "### PYTHON LIBRARIES"
      ],
      "metadata": {
        "id": "cCjm57FDBsAl"
      }
    },
    {
      "cell_type": "code",
      "execution_count": null,
      "metadata": {
        "id": "mIPuHbRO4nOc"
      },
      "outputs": [],
      "source": [
        "import numpy as np\n",
        "import pandas as pd\n",
        "import matplotlib.pyplot as plt     #importing the basic data Science Libraries like numpy pandas matplotlib and seaborn\n",
        "import seaborn as sns\n",
        "\n",
        "import scipy.stats as stats\n"
      ]
    },
    {
      "cell_type": "markdown",
      "source": [
        "# IMPORTING SCIKIT LEARN"
      ],
      "metadata": {
        "id": "-qeod3hiBj5Z"
      }
    },
    {
      "cell_type": "code",
      "source": [
        "from sklearn.model_selection import train_test_split               #for splitting the data into test and training data\n",
        "from sklearn.metrics import accuracy_score\n",
        "from sklearn.model_selection import cross_val_score\n",
        "\n",
        "\n",
        "from sklearn.compose import ColumnTransformer                       #for transforming the columns\n",
        "from sklearn.impute import SimpleImputer                             #for imputing the missing values\n",
        "from sklearn.preprocessing import OneHotEncoder                      #one hot encoding\n",
        "from sklearn.preprocessing import MinMaxScaler                        #standard scaling\n",
        "from sklearn.preprocessing import StandardScaler                      #min max scaling\n",
        "from sklearn.preprocessing import FunctionTransformer\n",
        "from sklearn.preprocessing import PowerTransformer\n",
        "\n",
        "from sklearn.metrics import mean_squared_error\n",
        "from sklearn.metrics import r2_score\n",
        "\n",
        "\n",
        "from sklearn.linear_model import LinearRegression\n",
        "from sklearn.linear_model import LogisticRegression\n",
        "from sklearn.tree import DecisionTreeClassifier"
      ],
      "metadata": {
        "id": "F8T6IS__6ZvX"
      },
      "execution_count": null,
      "outputs": []
    },
    {
      "cell_type": "code",
      "source": [
        "from google.colab import files    # we are importing the file from the device\n",
        "uploaded = files.upload()\n"
      ],
      "metadata": {
        "id": "Df6X770r6doF"
      },
      "execution_count": null,
      "outputs": []
    },
    {
      "cell_type": "code",
      "source": [
        "df=pd.read_csv('concrete_data.csv')   #fitting the data in the df dataframe\n",
        "df.head()"
      ],
      "metadata": {
        "id": "cHElKlOt_QED"
      },
      "execution_count": null,
      "outputs": []
    },
    {
      "cell_type": "code",
      "source": [
        "df.shape"
      ],
      "metadata": {
        "id": "wzxO-RHS_32u"
      },
      "execution_count": null,
      "outputs": []
    },
    {
      "cell_type": "code",
      "source": [
        "df.isnull().sum()"
      ],
      "metadata": {
        "id": "oQ3bINsOAAGo"
      },
      "execution_count": null,
      "outputs": []
    },
    {
      "cell_type": "code",
      "source": [
        "X = df.drop(columns=['Strength'])\n",
        "y = df['Strength']\n"
      ],
      "metadata": {
        "id": "lHQ4FCUvAFqe"
      },
      "execution_count": null,
      "outputs": []
    },
    {
      "cell_type": "code",
      "source": [
        "X"
      ],
      "metadata": {
        "id": "rsuAFFe_AogC"
      },
      "execution_count": null,
      "outputs": []
    },
    {
      "cell_type": "code",
      "source": [
        "y"
      ],
      "metadata": {
        "id": "Gr_l6diXApnh"
      },
      "execution_count": null,
      "outputs": []
    },
    {
      "cell_type": "code",
      "source": [
        "X_train, X_test, y_train, y_test = train_test_split(X, y, test_size=0.2, random_state=42)"
      ],
      "metadata": {
        "id": "CWsRGYDhAruu"
      },
      "execution_count": null,
      "outputs": []
    },
    {
      "cell_type": "code",
      "source": [
        "X_train"
      ],
      "metadata": {
        "id": "p_9bAiSEA7nl"
      },
      "execution_count": null,
      "outputs": []
    },
    {
      "cell_type": "code",
      "source": [
        "y_train"
      ],
      "metadata": {
        "id": "xGd4w9VTA_n9"
      },
      "execution_count": null,
      "outputs": []
    },
    {
      "cell_type": "markdown",
      "source": [
        "There are a few 0 values . but No negative values"
      ],
      "metadata": {
        "id": "oKYLVMKCBcNK"
      }
    },
    {
      "cell_type": "code",
      "source": [
        "df.describe()"
      ],
      "metadata": {
        "id": "6hy67Zm1BUvX"
      },
      "execution_count": null,
      "outputs": []
    },
    {
      "cell_type": "code",
      "source": [
        "#Applying Regression without Transformation\n",
        "\n",
        "lr=LinearRegression()\n",
        "\n",
        "lr.fit(X_train,y_train)\n",
        "\n",
        "y_pred=lr.predict(X_test)\n",
        "\n",
        "r2_score(y_test, y_pred)"
      ],
      "metadata": {
        "id": "8a4CAQ4aB_Xf"
      },
      "execution_count": null,
      "outputs": []
    },
    {
      "cell_type": "code",
      "source": [
        "# Cross Validation  Checking with cross val score\n",
        "lr=LinearRegression()\n",
        "\n",
        "np.mean(cross_val_score(lr,X,y,scoring='r2'))"
      ],
      "metadata": {
        "id": "ZKPsUBeFCJEl"
      },
      "execution_count": null,
      "outputs": []
    },
    {
      "cell_type": "code",
      "source": [
        "#plotting the displot without any tranformation\n",
        "\n",
        "for col in X_train.columns:\n",
        "\n",
        "  plt.figure(figsize=(14,4))\n",
        "  plt.subplot(121)\n",
        "  sns.histplot(X_train[col], kde=True)\n",
        "  plt.title(col)\n",
        "\n",
        "\n",
        "\n",
        "  plt.subplot(122)\n",
        "  stats.probplot(X_train[col],dist='norm', plot=plt)\n",
        "  plt.title(col)\n",
        "\n",
        "  plt.show()\n",
        "\n",
        "\n"
      ],
      "metadata": {
        "id": "ZJeUjI50C6Jf"
      },
      "execution_count": null,
      "outputs": []
    },
    {
      "cell_type": "code",
      "source": [
        "\n",
        "#applyling Box-Cox\n",
        "\n",
        "pt=PowerTransformer(method='box-cox')\n",
        "\n",
        "X_train_tr=pt.fit_transform(X_train+0.000001)        #we added infinitely small value to X_train as few values in X_train is 0\n",
        "X_test_tr=pt.transform(X_test+0.000001)\n",
        "\n",
        "\n",
        "pd.DataFrame({'cols':X_train.columns,'box_cox_lambdas':pt.lambdas_})\n"
      ],
      "metadata": {
        "id": "SFNblmLyHDEc"
      },
      "execution_count": null,
      "outputs": []
    },
    {
      "cell_type": "markdown",
      "source": [
        "IN the above we bascially got the lambdas of each of the 8 columns\n",
        "\n",
        "AND lambdas are basically the value with which columns values that is Xi of each row is getting calculated to standardized\n",
        "\n"
      ],
      "metadata": {
        "id": "NW8N5prQIbBe"
      }
    },
    {
      "cell_type": "markdown",
      "source": [
        "Xi is the value for each column for row i\n",
        "\n",
        "WHY ARE WE DOING BOX-COX transformation ?\n",
        "\n",
        "\n",
        "so that the weird distribution that we have for each column ( feature) transformed into a KINDA NORMAL DISTRIBUTION\n",
        "\n",
        "so THAT CALCULATION ON IT becomes easier"
      ],
      "metadata": {
        "id": "U3VEUTsOJMBr"
      }
    },
    {
      "cell_type": "markdown",
      "source": [
        "# Applying linear regression on BOX-COX transformed Data"
      ],
      "metadata": {
        "id": "WbpKWxOI72Ic"
      }
    },
    {
      "cell_type": "code",
      "source": [
        "lr = LinearRegression()\n",
        "\n",
        "lr.fit(X_train_tr, y_train)\n",
        "\n",
        "y_pred = lr.predict(X_test_tr)\n",
        "\n",
        "r2_score(y_test, y_pred)"
      ],
      "metadata": {
        "id": "vPW1E5ssHrv7"
      },
      "execution_count": null,
      "outputs": []
    },
    {
      "cell_type": "markdown",
      "source": [
        "Using Cross validation"
      ],
      "metadata": {
        "id": "mqcord__8Mr9"
      }
    },
    {
      "cell_type": "code",
      "source": [
        "pt=PowerTransformer(method='box-cox')       #we transformed x data using Box-Cox method\n",
        "X_tr=pt.fit_transform(X+0.000001)\n",
        "\n",
        "lr=LinearRegression()\n",
        "np.mean(cross_val_score(lr,X_tr,y,scoring='r2'))"
      ],
      "metadata": {
        "id": "Ke74g2Li8Ori"
      },
      "execution_count": null,
      "outputs": []
    },
    {
      "cell_type": "markdown",
      "source": [
        "# GRAPH for COMPARISon"
      ],
      "metadata": {
        "id": "Cd-ai3TFArIa"
      }
    },
    {
      "cell_type": "markdown",
      "source": [
        "Drawing the plots"
      ],
      "metadata": {
        "id": "wQaMwKAH8ahJ"
      }
    },
    {
      "cell_type": "code",
      "source": [
        "#plotting the histplot with Box-Cox tranformation\n",
        "\n",
        "X_train_tr=pd.DataFrame(X_train_tr,columns=X_train.columns)\n",
        "\n",
        "for col in X_train_tr.columns:\n",
        "\n",
        "  plt.figure(figsize=(14,4))\n",
        "  plt.subplot(121)\n",
        "  sns.histplot(X_train[col], kde=True)\n",
        "  plt.title(col)\n",
        "\n",
        "\n",
        "\n",
        "  plt.subplot(122)\n",
        "  sns.histplot(X_train_tr[col], kde=True)\n",
        "  plt.title(col)\n",
        "\n",
        "  plt.show()\n"
      ],
      "metadata": {
        "id": "cSCRmn1Z8cQo"
      },
      "execution_count": null,
      "outputs": []
    },
    {
      "cell_type": "markdown",
      "source": [
        "# APPLYING YEO JOHNSON TRANSFORMATION"
      ],
      "metadata": {
        "id": "ziuJy9fq-RsY"
      }
    },
    {
      "cell_type": "markdown",
      "source": [
        "FITTING YEO JOHNSON TRANSFORMATION IN A MODEL"
      ],
      "metadata": {
        "id": "GOvqks69_0SB"
      }
    },
    {
      "cell_type": "code",
      "source": [
        "\n",
        "#applyling YEO - JOHNSON TRANSFORMATION\n",
        "\n",
        "pt=PowerTransformer()\n",
        "\n",
        "X_train_tr=pt.fit_transform(X_train)        #we added infinitely small value to X_train as few values in X_train is 0\n",
        "X_test_tr=pt.transform(X_test)\n",
        "\n",
        "\n",
        "pd.DataFrame({'cols':X_train.columns,'Yeo_Johnson_lambdas':pt.lambdas_})"
      ],
      "metadata": {
        "id": "kA8Ba-14_y49"
      },
      "execution_count": null,
      "outputs": []
    },
    {
      "cell_type": "code",
      "source": [
        "lr = LinearRegression()\n",
        "\n",
        "lr.fit(X_train_tr, y_train)         #fitting the model\n",
        "\n",
        "y_pred = lr.predict(X_test_tr)\n",
        "\n",
        "r2_score(y_test, y_pred)          #predicting the model with R2score"
      ],
      "metadata": {
        "id": "2A0-PxCx-dTL"
      },
      "execution_count": null,
      "outputs": []
    },
    {
      "cell_type": "markdown",
      "source": [
        "Using CROSS VALIDATION"
      ],
      "metadata": {
        "id": "0rs5m8LP-fS5"
      }
    },
    {
      "cell_type": "code",
      "source": [
        "pt=PowerTransformer()       #we transformed x data using YEO JOHNSON  method\n",
        "X_tr=pt.fit_transform(X)     #default is only Yeo JOHNSON so we dont have to write anything\n",
        "\n",
        "lr=LinearRegression()\n",
        "np.mean(cross_val_score(lr,X_tr,y,scoring='r2'))"
      ],
      "metadata": {
        "id": "PVMCOMnP-q2V"
      },
      "execution_count": null,
      "outputs": []
    },
    {
      "cell_type": "markdown",
      "source": [
        "# GRAPHS for COMPARISON"
      ],
      "metadata": {
        "id": "0bVbZUCaAjz5"
      }
    },
    {
      "cell_type": "markdown",
      "source": [
        "Now we DRAW the graph for Yeo johnson transformation"
      ],
      "metadata": {
        "id": "rSW4DenR-t4X"
      }
    },
    {
      "cell_type": "code",
      "source": [
        "#plotting the histplot with YEO JHONSON  tranformation\n",
        "\n",
        "X_train_tr=pd.DataFrame(X_train_tr,columns=X_train.columns)\n",
        "\n",
        "for col in X_train_tr.columns:\n",
        "\n",
        "  plt.figure(figsize=(14,4))\n",
        "  plt.subplot(121)\n",
        "  sns.histplot(X_train[col], kde=True)\n",
        "  plt.title(col)\n",
        "\n",
        "\n",
        "\n",
        "  plt.subplot(122)\n",
        "  sns.histplot(X_train_tr[col], kde=True)\n",
        "  plt.title(col)\n",
        "\n",
        "  plt.show()\n"
      ],
      "metadata": {
        "id": "roK1iEzw-4i5"
      },
      "execution_count": null,
      "outputs": []
    },
    {
      "cell_type": "code",
      "source": [
        "# 2nd feature was bad in box-cox it imporved in the yeo johnson one\n",
        "\n",
        "# maybe the differnce in both transformation is less mere 1 perc\n",
        "\n",
        "#80perc for BOXCOX and 81 perc for Yeo Jhonson"
      ],
      "metadata": {
        "id": "bn-BUa-0CEH4"
      },
      "execution_count": null,
      "outputs": []
    },
    {
      "cell_type": "markdown",
      "source": [
        "BUT the cross val was also better for yeo jhonshon - 68perc and for Box-Cox was 66 per\n",
        "\n",
        "\n",
        "That is the name was YEO JOHNSON TRANSFORMATION IS DEFAULT FOR POWER TRANSFORMATION IN SCIKIT LEARN"
      ],
      "metadata": {
        "id": "J3GIy1PGCbMv"
      }
    },
    {
      "cell_type": "markdown",
      "source": [],
      "metadata": {
        "id": "8eB4B_LECvny"
      }
    }
  ]
}