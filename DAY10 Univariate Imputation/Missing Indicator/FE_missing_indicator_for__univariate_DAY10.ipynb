{
  "nbformat": 4,
  "nbformat_minor": 0,
  "metadata": {
    "colab": {
      "private_outputs": true,
      "provenance": []
    },
    "kernelspec": {
      "name": "python3",
      "display_name": "Python 3"
    },
    "language_info": {
      "name": "python"
    }
  },
  "cells": [
    {
      "cell_type": "markdown",
      "source": [
        "# Handling of the Missing Values\n",
        "\n",
        "# Univariate Dataset - Missing Indicator\n",
        "\n",
        "---\n"
      ],
      "metadata": {
        "id": "u93QB4H8gs0F"
      }
    },
    {
      "cell_type": "markdown",
      "source": [
        "IMPORTING DATA SCIENCE LIBRARIES"
      ],
      "metadata": {
        "id": "I2xjrloHcxJQ"
      }
    },
    {
      "cell_type": "code",
      "execution_count": null,
      "metadata": {
        "id": "JF9RMWnFZYq3"
      },
      "outputs": [],
      "source": [
        "import numpy as np\n",
        "import pandas as pd\n",
        "import matplotlib.pyplot as plt\n",
        "import seaborn as sns\n"
      ]
    },
    {
      "cell_type": "markdown",
      "source": [
        "IMPORTING MACHINE LEARNING LIBRARIES AND CLASSES"
      ],
      "metadata": {
        "id": "eQYW8ynycqpU"
      }
    },
    {
      "cell_type": "code",
      "source": [
        "\n",
        "from sklearn.model_selection import train_test_split               #for splitting the data into test and training data\n",
        "from sklearn.compose import ColumnTransformer                       #for transforming the columns\n",
        "from sklearn.impute import SimpleImputer                             #for imputing the missing values\n",
        "from sklearn.preprocessing import OneHotEncoder                      #one hot encoding\n",
        "from sklearn.preprocessing import MinMaxScaler                        #standard scaling\n",
        "\n",
        "\n",
        "from sklearn.metrics import accuracy_score                 # for accuracy score\n",
        "from sklearn.model_selection import cross_val_score        # for cross validation score\n"
      ],
      "metadata": {
        "id": "TaUQd0m-afNa"
      },
      "execution_count": null,
      "outputs": []
    },
    {
      "cell_type": "code",
      "source": [
        "from google.colab import files    # we are importing the file from the device\n",
        "uploaded = files.upload()"
      ],
      "metadata": {
        "id": "LyA9ckDSZ1Ra"
      },
      "execution_count": null,
      "outputs": []
    },
    {
      "cell_type": "code",
      "source": [
        "df= pd.read_csv('Titanic-Dataset.csv', usecols =['Age','Fare','Survived'])   #fitting the data in the df dataframe\n",
        "df.head()"
      ],
      "metadata": {
        "id": "paRuHdlDaWqd"
      },
      "execution_count": null,
      "outputs": []
    },
    {
      "cell_type": "code",
      "source": [
        "df.shape"
      ],
      "metadata": {
        "id": "RfJD6TjF3zNm"
      },
      "execution_count": null,
      "outputs": []
    },
    {
      "cell_type": "code",
      "source": [
        "df.info()"
      ],
      "metadata": {
        "id": "wCHVmYR_fag7"
      },
      "execution_count": null,
      "outputs": []
    },
    {
      "cell_type": "code",
      "source": [
        "df.describe()"
      ],
      "metadata": {
        "id": "UbV7iabMfcp3"
      },
      "execution_count": null,
      "outputs": []
    },
    {
      "cell_type": "code",
      "source": [
        "df.isnull().mean()*100"
      ],
      "metadata": {
        "id": "nrUIXvhGfh6_"
      },
      "execution_count": null,
      "outputs": []
    },
    {
      "cell_type": "code",
      "source": [
        "df\n"
      ],
      "metadata": {
        "id": "_9shwYygXk5n"
      },
      "execution_count": null,
      "outputs": []
    },
    {
      "cell_type": "markdown",
      "source": [
        "# Train / Test Split of the Dataset"
      ],
      "metadata": {
        "id": "JBpzeomkV_ob"
      }
    },
    {
      "cell_type": "code",
      "source": [
        "X = df.drop(columns=['Survived'])\n",
        "y = df['Survived']"
      ],
      "metadata": {
        "id": "J7Y3erq6WIgT"
      },
      "execution_count": null,
      "outputs": []
    },
    {
      "cell_type": "markdown",
      "source": [
        "Splitting the data for training and testing"
      ],
      "metadata": {
        "id": "NvJI-4rYXant"
      }
    },
    {
      "cell_type": "code",
      "source": [
        "X_train, X_test, y_train, y_test = train_test_split(X, y, test_size=0.2, random_state=2)"
      ],
      "metadata": {
        "id": "g3qJoI42WMhh"
      },
      "execution_count": null,
      "outputs": []
    },
    {
      "cell_type": "code",
      "source": [
        "X_train.head()"
      ],
      "metadata": {
        "id": "qnfWEzoSWQW0"
      },
      "execution_count": null,
      "outputs": []
    },
    {
      "cell_type": "markdown",
      "source": [
        "# Using Simple Imputer"
      ],
      "metadata": {
        "id": "ntM8fhYQWXMO"
      }
    },
    {
      "cell_type": "markdown",
      "source": [
        "Transforming using Simple Imputer"
      ],
      "metadata": {
        "id": "hNZhV3Slf6N6"
      }
    },
    {
      "cell_type": "code",
      "source": [
        "si = SimpleImputer()\n",
        "X_train_trf = si.fit_transform(X_train)\n",
        "X_test_trf = si.transform(X_test)"
      ],
      "metadata": {
        "id": "0pCDvGhwWexA"
      },
      "execution_count": null,
      "outputs": []
    },
    {
      "cell_type": "code",
      "source": [
        "X_train_trf"
      ],
      "metadata": {
        "id": "geeAL5koXs7M"
      },
      "execution_count": null,
      "outputs": []
    },
    {
      "cell_type": "markdown",
      "source": [
        "#  USING THE LOGISTIC REGRESSION MODEL WIHTOUT USING THE MISSING CATEGORY INDICATOR"
      ],
      "metadata": {
        "id": "GfDEXZYkV_k-"
      }
    },
    {
      "cell_type": "code",
      "source": [
        "from sklearn.linear_model import LogisticRegression\n",
        "clf = LogisticRegression()\n",
        "clf.fit(X_train_trf, y_train)\n",
        "y_pred = clf.predict(X_test_trf)\n",
        "accuracy_score(y_test, y_pred)"
      ],
      "metadata": {
        "id": "nSIP9cJMWyqX"
      },
      "execution_count": null,
      "outputs": []
    },
    {
      "cell_type": "markdown",
      "source": [
        "WE got an Accuracy score of 62 perc without using the missing category imputation technique"
      ],
      "metadata": {
        "id": "nKuCAglyV_ht"
      }
    },
    {
      "cell_type": "markdown",
      "source": [
        "# Now we will use the Missing Indicator Class"
      ],
      "metadata": {
        "id": "p6MrGuY_XzKE"
      }
    },
    {
      "cell_type": "markdown",
      "source": [
        "We take missing indicator feature as Mi"
      ],
      "metadata": {
        "id": "RjIk6ybJX7DG"
      }
    },
    {
      "cell_type": "code",
      "source": [
        "\n",
        "from sklearn.impute import MissingIndicator\n",
        "mi = MissingIndicator()\n",
        "mi.fit(X_train)"
      ],
      "metadata": {
        "id": "3Y3WznEmX5GF"
      },
      "execution_count": null,
      "outputs": []
    },
    {
      "cell_type": "code",
      "source": [
        "mi.features_"
      ],
      "metadata": {
        "id": "5kHaxxbTYNu0"
      },
      "execution_count": null,
      "outputs": []
    },
    {
      "cell_type": "code",
      "source": [
        "X_train_mis =mi.transform(X_train)\n",
        "X_test_mis = mi.transform(X_test)\n"
      ],
      "metadata": {
        "id": "WSNZhjSWYive"
      },
      "execution_count": null,
      "outputs": []
    },
    {
      "cell_type": "code",
      "source": [
        "X_train_mis"
      ],
      "metadata": {
        "id": "K0q1E3mxY0GO"
      },
      "execution_count": null,
      "outputs": []
    },
    {
      "cell_type": "code",
      "source": [
        "X_test_mis"
      ],
      "metadata": {
        "collapsed": true,
        "id": "Ss6j26_mY4lu"
      },
      "execution_count": null,
      "outputs": []
    },
    {
      "cell_type": "markdown",
      "source": [
        "# Add the columns to the training and testing dataset"
      ],
      "metadata": {
        "id": "8vZ1WnO2Y97d"
      }
    },
    {
      "cell_type": "code",
      "source": [
        "X_train['Age_NA'] = X_train_mis\n",
        "X_test['Age_NA'] = X_test_mis"
      ],
      "metadata": {
        "id": "idZY25fIZGX9"
      },
      "execution_count": null,
      "outputs": []
    },
    {
      "cell_type": "code",
      "source": [
        "X_train"
      ],
      "metadata": {
        "id": "I-dOH1g6ZZyE"
      },
      "execution_count": null,
      "outputs": []
    },
    {
      "cell_type": "markdown",
      "source": [
        "# Using Simple Imputer"
      ],
      "metadata": {
        "id": "7p2acpNSajf6"
      }
    },
    {
      "cell_type": "code",
      "source": [
        "si = SimpleImputer()\n",
        "X_train_trf2 = si.fit_transform(X_train)\n",
        "X_test_trf2 = si.transform(X_test)"
      ],
      "metadata": {
        "id": "8ICZGqNxajgD"
      },
      "execution_count": null,
      "outputs": []
    },
    {
      "cell_type": "code",
      "source": [
        "X_train_trf2"
      ],
      "metadata": {
        "collapsed": true,
        "id": "qlNEO78IajgD"
      },
      "execution_count": null,
      "outputs": []
    },
    {
      "cell_type": "markdown",
      "source": [
        "#  USING THE LOGISTIC REGRESSION MODEL USING THE MISSING CATEGORY INDICATOR"
      ],
      "metadata": {
        "id": "qCgaNUWRattz"
      }
    },
    {
      "cell_type": "code",
      "source": [
        "from sklearn.linear_model import LogisticRegression\n",
        "clf = LogisticRegression()\n",
        "clf.fit(X_train_trf2, y_train)\n",
        "y_pred = clf.predict(X_test_trf2)\n",
        "accuracy_score(y_test, y_pred)"
      ],
      "metadata": {
        "id": "e1HC8IcJa-E3"
      },
      "execution_count": null,
      "outputs": []
    },
    {
      "cell_type": "markdown",
      "source": [
        "Previously it was 61perc Now i got 63perc\n",
        "\n",
        "PATS ON MY BACK HURRAHH !!!"
      ],
      "metadata": {
        "id": "Ah0ZmSslg0il"
      }
    },
    {
      "cell_type": "markdown",
      "source": [
        "# Another WAY to do it"
      ],
      "metadata": {
        "id": "Axf3mVQMev9R"
      }
    },
    {
      "cell_type": "code",
      "source": [
        "si = SimpleImputer(add_indicator=True)\n",
        "X_train = si.fit_transform(X_train)\n",
        "X_test = si.transform(X_test)"
      ],
      "metadata": {
        "id": "WDmG7EJVe3AA"
      },
      "execution_count": null,
      "outputs": []
    },
    {
      "cell_type": "code",
      "source": [
        "from sklearn.linear_model import LogisticRegression\n",
        "clf = LogisticRegression()\n",
        "clf.fit(X_train_trf2, y_train)\n",
        "y_pred = clf.predict(X_test_trf2)\n",
        "\n",
        "\n",
        "from sklearn.metrics import accuracy_score\n",
        "accuracy_score(y_test, y_pred)"
      ],
      "metadata": {
        "id": "VZ8tXQZ3e6fj"
      },
      "execution_count": null,
      "outputs": []
    },
    {
      "cell_type": "markdown",
      "source": [
        "WE are getting the same accuracy of 62perc on this dataset"
      ],
      "metadata": {
        "id": "azIzp_5NfL15"
      }
    }
  ]
}