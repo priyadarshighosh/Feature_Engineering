{
  "nbformat": 4,
  "nbformat_minor": 0,
  "metadata": {
    "colab": {
      "private_outputs": true,
      "provenance": []
    },
    "kernelspec": {
      "name": "python3",
      "display_name": "Python 3"
    },
    "language_info": {
      "name": "python"
    }
  },
  "cells": [
    {
      "cell_type": "markdown",
      "source": [
        "# Handling of the Missing Values\n",
        "\n",
        "# Univariate Dataset - Random variable imputation\n",
        "\n",
        "---\n"
      ],
      "metadata": {
        "id": "u93QB4H8gs0F"
      }
    },
    {
      "cell_type": "markdown",
      "source": [
        "IMPORTING DATA SCIENCE LIBRARIES"
      ],
      "metadata": {
        "id": "I2xjrloHcxJQ"
      }
    },
    {
      "cell_type": "code",
      "execution_count": null,
      "metadata": {
        "id": "JF9RMWnFZYq3"
      },
      "outputs": [],
      "source": [
        "import numpy as np\n",
        "import pandas as pd\n",
        "import matplotlib.pyplot as plt\n",
        "import seaborn as sns\n"
      ]
    },
    {
      "cell_type": "markdown",
      "source": [
        "IMPORTING MACHINE LEARNING LIBRARIES AND CLASSES"
      ],
      "metadata": {
        "id": "eQYW8ynycqpU"
      }
    },
    {
      "cell_type": "code",
      "source": [
        "\n",
        "from sklearn.model_selection import train_test_split               #for splitting the data into test and training data\n",
        "from sklearn.compose import ColumnTransformer                       #for transforming the columns\n",
        "from sklearn.impute import SimpleImputer                             #for imputing the missing values\n",
        "from sklearn.preprocessing import OneHotEncoder                      #one hot encoding\n",
        "from sklearn.preprocessing import MinMaxScaler                        #standard scaling\n",
        "\n",
        "\n",
        "from sklearn.metrics import accuracy_score                 # for accuracy score\n",
        "from sklearn.model_selection import cross_val_score        # for cross validation score\n"
      ],
      "metadata": {
        "id": "TaUQd0m-afNa"
      },
      "execution_count": null,
      "outputs": []
    },
    {
      "cell_type": "code",
      "source": [
        "from google.colab import files    # we are importing the file from the device\n",
        "uploaded = files.upload()"
      ],
      "metadata": {
        "id": "LyA9ckDSZ1Ra"
      },
      "execution_count": null,
      "outputs": []
    },
    {
      "cell_type": "code",
      "source": [
        "df= pd.read_csv('train.csv', usecols =['GarageQual', 'FireplaceQu','SalePrice'])   #fitting the data in the df dataframe\n",
        "df.head()"
      ],
      "metadata": {
        "id": "paRuHdlDaWqd"
      },
      "execution_count": null,
      "outputs": []
    },
    {
      "cell_type": "code",
      "source": [
        "df.shape"
      ],
      "metadata": {
        "id": "RfJD6TjF3zNm"
      },
      "execution_count": null,
      "outputs": []
    },
    {
      "cell_type": "code",
      "source": [
        "df.info()"
      ],
      "metadata": {
        "id": "wCHVmYR_fag7",
        "collapsed": true
      },
      "execution_count": null,
      "outputs": []
    },
    {
      "cell_type": "code",
      "source": [
        "df.describe()"
      ],
      "metadata": {
        "id": "UbV7iabMfcp3"
      },
      "execution_count": null,
      "outputs": []
    },
    {
      "cell_type": "code",
      "source": [
        "df.isnull().mean()*100"
      ],
      "metadata": {
        "id": "nrUIXvhGfh6_"
      },
      "execution_count": null,
      "outputs": []
    },
    {
      "cell_type": "markdown",
      "source": [
        "We are making a separate column for SalePrice as it is our own target column"
      ],
      "metadata": {
        "id": "UK7YCtKpgc28"
      }
    },
    {
      "cell_type": "code",
      "source": [
        "X = df                           #storing everything in x\n",
        "y = df['SalePrice']               # storing target column in y"
      ],
      "metadata": {
        "id": "O5wkIIQNgRwL"
      },
      "execution_count": null,
      "outputs": []
    },
    {
      "cell_type": "markdown",
      "source": [
        "# Making separate columns for the 2 Features of Imputation of the Values"
      ],
      "metadata": {
        "id": "32o3ZLf1gbG2"
      }
    },
    {
      "cell_type": "code",
      "source": [
        "df['Garage_imputed'] = df['GarageQual']\n",
        "df['Fireplace_imputed'] = df['FireplaceQu']\n",
        "df.head(20)"
      ],
      "metadata": {
        "id": "DRcKwRT3hEqW"
      },
      "execution_count": null,
      "outputs": []
    },
    {
      "cell_type": "markdown",
      "source": [
        "THIS shows the null values in Garage_imputed"
      ],
      "metadata": {
        "id": "RvN-TMQbyXhG"
      }
    },
    {
      "cell_type": "code",
      "source": [
        "df['Garage_imputed'][df['GarageQual'].isnull()]"
      ],
      "metadata": {
        "id": "N1T2ilcYhk7J"
      },
      "execution_count": null,
      "outputs": []
    },
    {
      "cell_type": "markdown",
      "source": [
        "THIS shows the null values in Fireplace_imputed"
      ],
      "metadata": {
        "id": "O-R_Z5XRyeLb"
      }
    },
    {
      "cell_type": "code",
      "source": [
        "df['Fireplace_imputed'][df['FireplaceQu'].isnull()]"
      ],
      "metadata": {
        "id": "wBOzo5Nqvzfp"
      },
      "execution_count": null,
      "outputs": []
    },
    {
      "cell_type": "code",
      "source": [
        "X_train.sample(5)"
      ],
      "metadata": {
        "id": "nOljATS1lLAf"
      },
      "execution_count": null,
      "outputs": []
    },
    {
      "cell_type": "markdown",
      "source": [
        "# Imputation of the values"
      ],
      "metadata": {
        "id": "kHMRhAVDlfjw"
      }
    },
    {
      "cell_type": "code",
      "source": [
        "df[\"Garage_imputed\"][df[\"Garage_imputed\"].isnull()] = df['GarageQual'].dropna().sample(df['GarageQual'].isnull().sum()).values"
      ],
      "metadata": {
        "id": "qJzfFFPbKyYC"
      },
      "execution_count": null,
      "outputs": []
    },
    {
      "cell_type": "code",
      "source": [
        "df[\"Fireplace_imputed\"][df[\"Fireplace_imputed\"].isnull()] = df['FireplaceQu'].dropna().sample(df['FireplaceQu'].isnull().sum()).values"
      ],
      "metadata": {
        "id": "aW04lXWVwD9N"
      },
      "execution_count": null,
      "outputs": []
    },
    {
      "cell_type": "markdown",
      "source": [
        "#  Comapison between the Original and the Imputed One"
      ],
      "metadata": {
        "id": "gQM4TzreohQx"
      }
    },
    {
      "cell_type": "code",
      "source": [
        "temp = pd.concat(\n",
        "    [\n",
        "        df['GarageQual'].value_counts()/len(df['GarageQual'].dropna()),\n",
        "        df['Garage_imputed'].value_counts()/len(df)\n",
        "    ],\n",
        "    axis=1)\n",
        "\n",
        "temp.columns = ['original', 'imputed']\n",
        "temp\n"
      ],
      "metadata": {
        "id": "k1vHxuWtqHDC"
      },
      "execution_count": null,
      "outputs": []
    },
    {
      "cell_type": "code",
      "source": [
        "temp = pd.concat(\n",
        "    [\n",
        "        df['FireplaceQu'].value_counts()/len(df['FireplaceQu'].dropna()),\n",
        "        df['Fireplace_imputed'].value_counts()/len(df)\n",
        "    ],\n",
        "    axis=1)\n",
        "\n",
        "temp.columns = ['original', 'imputed']\n",
        "temp\n"
      ],
      "metadata": {
        "id": "NDx8H6e2r013"
      },
      "execution_count": null,
      "outputs": []
    },
    {
      "cell_type": "markdown",
      "source": [
        "# PLOTTING THE GRAPH"
      ],
      "metadata": {
        "id": "h7jKrG95sjTC"
      }
    },
    {
      "cell_type": "markdown",
      "source": [
        "Before Imputation  "
      ],
      "metadata": {
        "id": "bnEi1pSOx61E"
      }
    },
    {
      "cell_type": "code",
      "source": [
        "\n",
        "plt.subplot(1,2,1)\n",
        "\n",
        "for category in df['FireplaceQu'].dropna().unique():\n",
        "  sns.distplot(df[df['FireplaceQu'] == category]['SalePrice'], label=category, hist=False)\n",
        "plt.legend()\n",
        "plt.show()\n"
      ],
      "metadata": {
        "id": "FqZ-D1lVsnaC"
      },
      "execution_count": null,
      "outputs": []
    },
    {
      "cell_type": "markdown",
      "source": [
        "After Imputation"
      ],
      "metadata": {
        "id": "PEl6thJmyCgx"
      }
    },
    {
      "cell_type": "code",
      "source": [
        "plt.subplot(1,2,2)\n",
        "\n",
        "for category in df['Fireplace_imputed'].dropna().unique():\n",
        "  sns.distplot(df[df['Fireplace_imputed'] == category]['SalePrice'], label=category, hist=False)\n",
        "plt.legend()\n",
        "plt.show()"
      ],
      "metadata": {
        "id": "CyWbGnvXxuR1"
      },
      "execution_count": null,
      "outputs": []
    }
  ]
}