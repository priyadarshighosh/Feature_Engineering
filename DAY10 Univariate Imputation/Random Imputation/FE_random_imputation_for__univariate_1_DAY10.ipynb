{
  "nbformat": 4,
  "nbformat_minor": 0,
  "metadata": {
    "colab": {
      "private_outputs": true,
      "provenance": []
    },
    "kernelspec": {
      "name": "python3",
      "display_name": "Python 3"
    },
    "language_info": {
      "name": "python"
    }
  },
  "cells": [
    {
      "cell_type": "markdown",
      "source": [
        "# Handling of the Missing Values\n",
        "\n",
        "# Univariate Dataset - Random variable imputation\n",
        "\n",
        "---\n"
      ],
      "metadata": {
        "id": "u93QB4H8gs0F"
      }
    },
    {
      "cell_type": "markdown",
      "source": [
        "IMPORTING DATA SCIENCE LIBRARIES"
      ],
      "metadata": {
        "id": "I2xjrloHcxJQ"
      }
    },
    {
      "cell_type": "code",
      "execution_count": null,
      "metadata": {
        "id": "JF9RMWnFZYq3"
      },
      "outputs": [],
      "source": [
        "import numpy as np\n",
        "import pandas as pd\n",
        "import matplotlib.pyplot as plt\n",
        "import seaborn as sns\n"
      ]
    },
    {
      "cell_type": "markdown",
      "source": [
        "IMPORTING MACHINE LEARNING LIBRARIES AND CLASSES"
      ],
      "metadata": {
        "id": "eQYW8ynycqpU"
      }
    },
    {
      "cell_type": "code",
      "source": [
        "\n",
        "from sklearn.model_selection import train_test_split               #for splitting the data into test and training data\n",
        "from sklearn.compose import ColumnTransformer                       #for transforming the columns\n",
        "from sklearn.impute import SimpleImputer                             #for imputing the missing values\n",
        "from sklearn.preprocessing import OneHotEncoder                      #one hot encoding\n",
        "from sklearn.preprocessing import MinMaxScaler                        #standard scaling\n",
        "\n",
        "\n",
        "from sklearn.metrics import accuracy_score                 # for accuracy score\n",
        "from sklearn.model_selection import cross_val_score        # for cross validation score\n"
      ],
      "metadata": {
        "id": "TaUQd0m-afNa"
      },
      "execution_count": null,
      "outputs": []
    },
    {
      "cell_type": "code",
      "source": [
        "from google.colab import files    # we are importing the file from the device\n",
        "uploaded = files.upload()"
      ],
      "metadata": {
        "id": "LyA9ckDSZ1Ra"
      },
      "execution_count": null,
      "outputs": []
    },
    {
      "cell_type": "code",
      "source": [
        "df= pd.read_csv('Titanic-Dataset.csv', usecols =['Age','Fare','Survived'])   #fitting the data in the df dataframe\n",
        "df.head()"
      ],
      "metadata": {
        "id": "paRuHdlDaWqd"
      },
      "execution_count": null,
      "outputs": []
    },
    {
      "cell_type": "code",
      "source": [
        "df.shape"
      ],
      "metadata": {
        "id": "RfJD6TjF3zNm"
      },
      "execution_count": null,
      "outputs": []
    },
    {
      "cell_type": "code",
      "source": [
        "df.info()"
      ],
      "metadata": {
        "id": "wCHVmYR_fag7"
      },
      "execution_count": null,
      "outputs": []
    },
    {
      "cell_type": "code",
      "source": [
        "df.describe()"
      ],
      "metadata": {
        "id": "UbV7iabMfcp3"
      },
      "execution_count": null,
      "outputs": []
    },
    {
      "cell_type": "code",
      "source": [
        "df.isnull().mean()*100"
      ],
      "metadata": {
        "id": "nrUIXvhGfh6_"
      },
      "execution_count": null,
      "outputs": []
    },
    {
      "cell_type": "code",
      "source": [
        "df\n"
      ],
      "metadata": {
        "id": "_9shwYygXk5n"
      },
      "execution_count": null,
      "outputs": []
    },
    {
      "cell_type": "markdown",
      "source": [
        "# Imputation RANDOM VALUES - UNIVARIATE ."
      ],
      "metadata": {
        "id": "f7jqF1c1Tgcy"
      }
    },
    {
      "cell_type": "code",
      "source": [
        "df['Age_imputed'] = df['Age']\n",
        "df.head(20)"
      ],
      "metadata": {
        "id": "uUDcLoWeTp6w"
      },
      "execution_count": null,
      "outputs": []
    },
    {
      "cell_type": "markdown",
      "source": [
        "This gives the Datapoints of Age where Age is not present ."
      ],
      "metadata": {
        "id": "jhAP6wyjVmiV"
      }
    },
    {
      "cell_type": "code",
      "source": [
        "df['Age_imputed'][df['Age_imputed'].isnull()]   #This will show the positions where Age_imputed is null"
      ],
      "metadata": {
        "id": "_s8IHMyeVhQ0"
      },
      "execution_count": null,
      "outputs": []
    },
    {
      "cell_type": "markdown",
      "source": [
        "NOW THE IMPUTATION OF RANDOM VALUES TAKE PLACE From the No of AGE THAT ARE PRESENT ... IN THE DATASET ."
      ],
      "metadata": {
        "id": "2XgwS9KiUKck"
      }
    },
    {
      "cell_type": "code",
      "source": [
        "df[\"Age_imputed\"][df[\"Age_imputed\"].isnull()] = df['Age'].dropna().sample(df[\"Age\"].isnull().sum()).values"
      ],
      "metadata": {
        "id": "qJzfFFPbKyYC"
      },
      "execution_count": null,
      "outputs": []
    },
    {
      "cell_type": "code",
      "source": [
        "df.head(20)"
      ],
      "metadata": {
        "id": "xCqwGP_dWO0h"
      },
      "execution_count": null,
      "outputs": []
    },
    {
      "cell_type": "code",
      "source": [
        "df.isnull().sum()"
      ],
      "metadata": {
        "id": "UGjmtSykW5Jb"
      },
      "execution_count": null,
      "outputs": []
    },
    {
      "cell_type": "markdown",
      "source": [
        "# Putting the sample imputation"
      ],
      "metadata": {
        "id": "MT-VBMs6WiFw"
      }
    },
    {
      "cell_type": "code",
      "source": [
        "df['Age_imputed'].dropna().sample(df['Age_imputed'].isnull().sum()).values"
      ],
      "metadata": {
        "id": "2ihZjVbOXy0p"
      },
      "execution_count": null,
      "outputs": []
    },
    {
      "cell_type": "code",
      "source": [
        "df.head(20)"
      ],
      "metadata": {
        "id": "IZxZdyY0Jnuk"
      },
      "execution_count": null,
      "outputs": []
    },
    {
      "cell_type": "markdown",
      "source": [
        "# Plotting the graph to comapre AGE and Imputed_Age"
      ],
      "metadata": {
        "id": "lqwR9UULYn3C"
      }
    },
    {
      "cell_type": "code",
      "source": [
        "#Plotting thekde graph\n",
        "plt.figure(figsize=(12,10))\n",
        "plt.subplot(1,2,1)\n",
        "\n",
        "sns.histplot(df['Age'], kde=True)\n",
        "plt.title('Age')\n",
        "plt.ylabel('Age')\n",
        "\n",
        "\n",
        "plt.subplot(1,2,2)\n",
        "sns.histplot(df['Age_imputed'], kde=True)\n",
        "plt.title('Age_imputed')\n",
        "plt.ylabel('Age_imputed')\n",
        "\n",
        "\n",
        "\n",
        "plt.show()"
      ],
      "metadata": {
        "id": "YI7uC7n4Yso5"
      },
      "execution_count": null,
      "outputs": []
    },
    {
      "cell_type": "markdown",
      "source": [
        "Box Plot"
      ],
      "metadata": {
        "id": "bho3ZFUzNhVb"
      }
    },
    {
      "cell_type": "code",
      "source": [
        "df[[\"Age\",\"Age_imputed\"]].plot(kind=\"box\")"
      ],
      "metadata": {
        "id": "7_J2IBzhNjrJ"
      },
      "execution_count": null,
      "outputs": []
    },
    {
      "cell_type": "markdown",
      "source": [
        "# Data about our Imputed Dataset"
      ],
      "metadata": {
        "id": "8dzidFgW1aCk"
      }
    },
    {
      "cell_type": "markdown",
      "source": [
        "Finding the variance\n",
        "\n"
      ],
      "metadata": {
        "id": "H5c5X6DhL56F"
      }
    },
    {
      "cell_type": "code",
      "source": [
        "df['Age'].var()"
      ],
      "metadata": {
        "id": "MzpVzZsQMA3X"
      },
      "execution_count": null,
      "outputs": []
    },
    {
      "cell_type": "code",
      "source": [
        "df['Age_imputed'].var()"
      ],
      "metadata": {
        "id": "-DOGj2iKMDYq"
      },
      "execution_count": null,
      "outputs": []
    },
    {
      "cell_type": "markdown",
      "source": [
        "Find covariance"
      ],
      "metadata": {
        "id": "gjHzxPvMMVtu"
      }
    },
    {
      "cell_type": "code",
      "source": [
        "df['Age'].cov(df['Fare'])"
      ],
      "metadata": {
        "id": "8z4ELLvaMXck"
      },
      "execution_count": null,
      "outputs": []
    },
    {
      "cell_type": "code",
      "source": [
        "df['Age_imputed'].cov(df['Fare'])"
      ],
      "metadata": {
        "id": "K8E97tusMiOM"
      },
      "execution_count": null,
      "outputs": []
    }
  ]
}