{
  "nbformat": 4,
  "nbformat_minor": 0,
  "metadata": {
    "colab": {
      "private_outputs": true,
      "provenance": []
    },
    "kernelspec": {
      "name": "python3",
      "display_name": "Python 3"
    },
    "language_info": {
      "name": "python"
    }
  },
  "cells": [
    {
      "cell_type": "markdown",
      "source": [
        "# Importing the necessary libraries"
      ],
      "metadata": {
        "id": "itjNODAaq6Nw"
      }
    },
    {
      "cell_type": "code",
      "execution_count": null,
      "metadata": {
        "id": "xJTw46seZ5oZ"
      },
      "outputs": [],
      "source": [
        "import numpy as np\n",
        "import pandas as pd\n",
        "\n",
        "np.random.seed(23)"
      ]
    },
    {
      "cell_type": "markdown",
      "source": [
        "# FORMING OUR OWN DATASET\n",
        "\n",
        "---"
      ],
      "metadata": {
        "id": "P23LroIMq6qG"
      }
    },
    {
      "cell_type": "markdown",
      "source": [
        "We are forming the data in the dataset where target is 1"
      ],
      "metadata": {
        "id": "kN_srWB2_CsG"
      }
    },
    {
      "cell_type": "code",
      "source": [
        "mu_vec1 = np.array([0,0,0])\n",
        "cov_mat1 = np.array([[1,0,0],[0,1,0],[0,0,1]])\n",
        "class1_sample = np.random.multivariate_normal(mu_vec1, cov_mat1, 20)\n"
      ],
      "metadata": {
        "id": "-MDjERwGaVpr"
      },
      "execution_count": null,
      "outputs": []
    },
    {
      "cell_type": "code",
      "source": [
        "df=pd.DataFrame(class1_sample,columns=['features1','features2','features3'])\n",
        "df['target']=1"
      ],
      "metadata": {
        "id": "Wiu_CP3zbLMc"
      },
      "execution_count": null,
      "outputs": []
    },
    {
      "cell_type": "markdown",
      "source": [
        "We are forming the data in the dataset where target is 0"
      ],
      "metadata": {
        "id": "-mE73NxyBzZw"
      }
    },
    {
      "cell_type": "code",
      "source": [
        "mu_vec2 = np.array([1,1,1])\n",
        "cov_mat2 =np.array([[1,0,0],[0,1,0],[0,0,1]])\n",
        "class2_sample = np.random.multivariate_normal(mu_vec2, cov_mat2, 20)"
      ],
      "metadata": {
        "id": "je7VMv7UmwR3"
      },
      "execution_count": null,
      "outputs": []
    },
    {
      "cell_type": "code",
      "source": [
        "df1=pd.DataFrame(class2_sample,columns=['features1','features2','features3'])\n",
        "df1['target']=0"
      ],
      "metadata": {
        "id": "AgKNKEbYnJOj"
      },
      "execution_count": null,
      "outputs": []
    },
    {
      "cell_type": "markdown",
      "source": [
        "Combining the 2 dataframes where target = 1 and where target = 0"
      ],
      "metadata": {
        "id": "R-VQnjtLB2ib"
      }
    },
    {
      "source": [
        "# Use pd.concat to combine the DataFrames.\n",
        "df = pd.concat([df, df1], ignore_index=True)\n",
        "df = df.sample(40)"
      ],
      "cell_type": "code",
      "metadata": {
        "id": "d1Upco8no4o3"
      },
      "execution_count": null,
      "outputs": []
    },
    {
      "cell_type": "code",
      "source": [
        "df.head(10)"
      ],
      "metadata": {
        "id": "oh_ER6Ayoc3e"
      },
      "execution_count": null,
      "outputs": []
    },
    {
      "cell_type": "markdown",
      "source": [
        "# Creating  A 3D Plot\n",
        "\n",
        "---"
      ],
      "metadata": {
        "id": "K8CrVWuapDag"
      }
    },
    {
      "cell_type": "code",
      "source": [
        "import plotly.express as px\n",
        "\n",
        "\n",
        "fig = px.scatter_3d(df, x=df['features1'], y=df['features2'], z=df['features3'],\n",
        "              color=df['target'].astype('str'))\n",
        "fig.update_traces(marker=dict(size=5, line=dict(width=2, color='DarkSlateGrey')),\n",
        "                  selector=dict(mode='markers'))\n",
        "fig.show()\n"
      ],
      "metadata": {
        "id": "EHZ9jaeXpItb"
      },
      "execution_count": null,
      "outputs": []
    },
    {
      "cell_type": "markdown",
      "source": [
        "# Step-1 We are doing Standard Scaling"
      ],
      "metadata": {
        "id": "hTDIsEcnqH4l"
      }
    },
    {
      "cell_type": "code",
      "source": [
        "from sklearn.preprocessing import StandardScaler\n",
        "scaler = StandardScaler()\n",
        "\n",
        "df.iloc[:,:-1] = scaler.fit_transform(df.iloc[:,:-1])"
      ],
      "metadata": {
        "id": "OOV9JMTpqkF_"
      },
      "execution_count": null,
      "outputs": []
    },
    {
      "cell_type": "markdown",
      "source": [
        "# Step-2 We are going to find the Covariance Matrix"
      ],
      "metadata": {
        "id": "uEDR46Iqrank"
      }
    },
    {
      "cell_type": "code",
      "source": [
        "covariance_matrix = np.cov([df.iloc[:,0],df.iloc[:,1],df.iloc[:,2]])\n",
        "\n",
        "print('Covariance Matrix:')\n",
        "print(covariance_matrix)\n"
      ],
      "metadata": {
        "id": "kMdiByY8rj3h"
      },
      "execution_count": null,
      "outputs": []
    },
    {
      "cell_type": "markdown",
      "source": [
        "# Step-3 We are going to find the Eigen Values and Eigen Vectors"
      ],
      "metadata": {
        "id": "9pSogU2K-OE3"
      }
    },
    {
      "cell_type": "code",
      "source": [
        "eigen_values, eigen_vectors = np.linalg.eig(covariance_matrix)\n",
        "\n",
        "print('Eigen Values:')\n",
        "print(eigen_values)\n",
        "\n",
        "print('Eigen Vectors:')\n",
        "print(eigen_vectors)"
      ],
      "metadata": {
        "id": "i17lSbGD-aKj"
      },
      "execution_count": null,
      "outputs": []
    },
    {
      "cell_type": "markdown",
      "source": [
        "#  Step-4 We got our 2 principle component axis , Now we transform the mean centered 3D figure to 2D PCA"
      ],
      "metadata": {
        "id": "QmS4__dUF3bG"
      }
    },
    {
      "cell_type": "code",
      "source": [
        "pc = eigen_vectors[0:2]\n",
        "pc\n",
        ""
      ],
      "metadata": {
        "id": "s8IFwrkNF4Cm"
      },
      "execution_count": null,
      "outputs": []
    },
    {
      "cell_type": "code",
      "source": [
        "transformed_df = np.dot(df.iloc[:,0:3],pc.T)\n",
        "# 40,3 - 3,2\n",
        "new_df = pd.DataFrame(transformed_df,columns=['PC1','PC2'])\n",
        "new_df['target'] = df['target'].values\n",
        "new_df.head()\n",
        ""
      ],
      "metadata": {
        "id": "cUX0inqGF8WO"
      },
      "execution_count": null,
      "outputs": []
    },
    {
      "cell_type": "code",
      "source": [
        "new_df['target'] = new_df['target'].astype('str')\n",
        "fig = px.scatter(x=new_df['PC1'],\n",
        "                 y=new_df['PC2'],\n",
        "                 color=new_df['target'],\n",
        "                 color_discrete_sequence=px.colors.qualitative.G10\n",
        "                )\n",
        "\n",
        "fig.update_traces(marker=dict(size=12,\n",
        "                              line=dict(width=2,\n",
        "                                        color='DarkSlateGrey')),\n",
        "                  selector=dict(mode='markers'))\n",
        "fig.show()\n",
        ""
      ],
      "metadata": {
        "id": "DGl87CozGABn"
      },
      "execution_count": null,
      "outputs": []
    },
    {
      "cell_type": "markdown",
      "source": [
        "this our 2 dimentional figure , this works better than 3d model As curse of dimentionality is reduced ."
      ],
      "metadata": {
        "id": "ZCgzfg66KJOl"
      }
    }
  ]
}