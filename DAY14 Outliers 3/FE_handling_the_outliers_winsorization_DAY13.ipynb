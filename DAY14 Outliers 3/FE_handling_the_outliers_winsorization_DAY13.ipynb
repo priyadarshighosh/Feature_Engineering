{
  "nbformat": 4,
  "nbformat_minor": 0,
  "metadata": {
    "colab": {
      "private_outputs": true,
      "provenance": []
    },
    "kernelspec": {
      "name": "python3",
      "display_name": "Python 3"
    },
    "language_info": {
      "name": "python"
    }
  },
  "cells": [
    {
      "cell_type": "markdown",
      "source": [
        "# HANDLING The Outliers\n",
        "\n",
        "\n",
        "#  WINZORIZATION - PERCENTILE METHOD"
      ],
      "metadata": {
        "id": "u93QB4H8gs0F"
      }
    },
    {
      "cell_type": "markdown",
      "source": [
        "IMPORTING DATA SCIENCE LIBRARIES"
      ],
      "metadata": {
        "id": "I2xjrloHcxJQ"
      }
    },
    {
      "cell_type": "code",
      "execution_count": null,
      "metadata": {
        "id": "JF9RMWnFZYq3"
      },
      "outputs": [],
      "source": [
        "import numpy as np\n",
        "import pandas as pd\n",
        "import matplotlib.pyplot as plt\n",
        "import seaborn as sns\n"
      ]
    },
    {
      "cell_type": "markdown",
      "source": [
        "IMPORTING MACHINE LEARNING LIBRARIES AND CLASSES"
      ],
      "metadata": {
        "id": "eQYW8ynycqpU"
      }
    },
    {
      "cell_type": "code",
      "source": [
        "\n",
        "from sklearn.model_selection import train_test_split               #for splitting the data into test and training data\n",
        "from sklearn.compose import ColumnTransformer                       #for transforming the columns\n",
        "from sklearn.impute import SimpleImputer                             #for imputing the missing values\n",
        "from sklearn.preprocessing import OneHotEncoder                      #one hot encoding\n",
        "from sklearn.preprocessing import MinMaxScaler                        #standard scaling\n",
        "\n",
        "\n",
        "from sklearn.metrics import accuracy_score                 # for accuracy score\n",
        "from sklearn.model_selection import cross_val_score        # for cross validation score\n"
      ],
      "metadata": {
        "id": "TaUQd0m-afNa"
      },
      "execution_count": null,
      "outputs": []
    },
    {
      "cell_type": "code",
      "source": [
        "from google.colab import files    # we are importing the file from the device\n",
        "uploaded = files.upload()"
      ],
      "metadata": {
        "id": "LyA9ckDSZ1Ra"
      },
      "execution_count": null,
      "outputs": []
    },
    {
      "cell_type": "code",
      "source": [
        "df=pd.read_csv('weight-height.csv')   #fitting the data in the df dataframe\n",
        "df.head()"
      ],
      "metadata": {
        "id": "paRuHdlDaWqd"
      },
      "execution_count": null,
      "outputs": []
    },
    {
      "cell_type": "code",
      "source": [
        "df.shape"
      ],
      "metadata": {
        "id": "RfJD6TjF3zNm"
      },
      "execution_count": null,
      "outputs": []
    },
    {
      "cell_type": "code",
      "source": [
        "df.info()"
      ],
      "metadata": {
        "id": "wCHVmYR_fag7"
      },
      "execution_count": null,
      "outputs": []
    },
    {
      "cell_type": "code",
      "source": [
        "df.describe()"
      ],
      "metadata": {
        "id": "UbV7iabMfcp3"
      },
      "execution_count": null,
      "outputs": []
    },
    {
      "cell_type": "code",
      "source": [
        "df.isnull().sum()"
      ],
      "metadata": {
        "id": "nrUIXvhGfh6_"
      },
      "execution_count": null,
      "outputs": []
    },
    {
      "cell_type": "code",
      "source": [
        "plt.figure(figsize=(12,10))\n",
        "plt.subplot(1,2,1)\n",
        "\n",
        "sns.histplot(df['Height'], kde=True)\n",
        "\n",
        "plt.subplot(1,2,2)\n",
        "sns.histplot(df['Weight'] , kde=True)"
      ],
      "metadata": {
        "id": "_9shwYygXk5n"
      },
      "execution_count": null,
      "outputs": []
    },
    {
      "cell_type": "markdown",
      "source": [
        "Doing the Box plot"
      ],
      "metadata": {
        "id": "GBdgtgLpafeM"
      }
    },
    {
      "cell_type": "code",
      "source": [
        "sns.boxplot(df['Height'])\n"
      ],
      "metadata": {
        "id": "xY3BfJbIah16"
      },
      "execution_count": null,
      "outputs": []
    },
    {
      "cell_type": "code",
      "source": [
        "sns.boxplot(df['Weight'])"
      ],
      "metadata": {
        "id": "oxkkuFe-3edY"
      },
      "execution_count": null,
      "outputs": []
    },
    {
      "cell_type": "markdown",
      "source": [
        "Getting Information about height"
      ],
      "metadata": {
        "id": "CQ3nTscc35KX"
      }
    },
    {
      "cell_type": "code",
      "source": [
        "df['Height'].describe()"
      ],
      "metadata": {
        "id": "Vj5JNpAX35ly"
      },
      "execution_count": null,
      "outputs": []
    },
    {
      "cell_type": "markdown",
      "source": [
        "FINDING THE OUTLIER"
      ],
      "metadata": {
        "id": "sz_T4F0MbQ_o"
      }
    },
    {
      "cell_type": "code",
      "source": [
        "#Finding THE IQR\n",
        "\n",
        "Max = df['Height'].quantile(0.995)\n",
        "Min = df['Height'].quantile(0.005)\n",
        "\n"
      ],
      "metadata": {
        "id": "rt94Bt-UbQPA"
      },
      "execution_count": null,
      "outputs": []
    },
    {
      "cell_type": "markdown",
      "source": [
        "Values of Min and Max of Height"
      ],
      "metadata": {
        "id": "9MlumZ3fus-N"
      }
    },
    {
      "cell_type": "code",
      "source": [
        "Min"
      ],
      "metadata": {
        "id": "53qDJujquv1w"
      },
      "execution_count": null,
      "outputs": []
    },
    {
      "cell_type": "code",
      "source": [
        "Max"
      ],
      "metadata": {
        "id": "FwBTEHJ04jRC"
      },
      "execution_count": null,
      "outputs": []
    },
    {
      "cell_type": "markdown",
      "source": [
        "# Trimming the Outliers with IQR"
      ],
      "metadata": {
        "id": "Qa7Oxww1cp2Q"
      }
    },
    {
      "cell_type": "code",
      "source": [
        "#Trimming the dataset\n",
        "new_df = df[(df['Height'] > Min) & (df['Height'] < Max)]\n",
        "new_df"
      ],
      "metadata": {
        "id": "Qxd5jQ6VcKaI"
      },
      "execution_count": null,
      "outputs": []
    },
    {
      "cell_type": "markdown",
      "source": [
        "PLOTTING THE TRIMMED GRAPH"
      ],
      "metadata": {
        "id": "E95YCNcziV8n"
      }
    },
    {
      "cell_type": "code",
      "source": [
        "plt.figure(figsize=(12,10))\n",
        "plt.subplot(1,2,1)\n",
        "\n",
        "sns.histplot(new_df['Height'], kde=True)\n",
        "\n",
        "plt.show()"
      ],
      "metadata": {
        "id": "aSdgDzTFiipC"
      },
      "execution_count": null,
      "outputs": []
    },
    {
      "cell_type": "markdown",
      "source": [
        "DRAWING THE BOX PLOT"
      ],
      "metadata": {
        "id": "WNZ3cF2qxN0B"
      }
    },
    {
      "cell_type": "code",
      "source": [
        "#drawing the boxplot\n",
        "sns.boxplot(new_df['Height'])"
      ],
      "metadata": {
        "id": "hMvagFMXxUfx"
      },
      "execution_count": null,
      "outputs": []
    },
    {
      "cell_type": "markdown",
      "source": [
        "# Capping After IQR"
      ],
      "metadata": {
        "id": "2WB1CVqJfO-o"
      }
    },
    {
      "cell_type": "code",
      "source": [
        "Min"
      ],
      "metadata": {
        "id": "DVoUFQSMhGFs"
      },
      "execution_count": null,
      "outputs": []
    },
    {
      "cell_type": "code",
      "source": [
        "Max"
      ],
      "metadata": {
        "id": "FT0djViUhA3E"
      },
      "execution_count": null,
      "outputs": []
    },
    {
      "cell_type": "markdown",
      "source": [
        "In np.where ( X , y , z )\n",
        "X is the condition\n",
        "Y happens if X condition is satisfied\n",
        "Z happens if X is not satisfied"
      ],
      "metadata": {
        "id": "vQ2-1LIfhNBx"
      }
    },
    {
      "cell_type": "code",
      "source": [
        "df['Height_capped'] = np.where(\n",
        "      df['Height'] > Max, Max,\n",
        "      np.where(\n",
        "          df['Height'] < Min,\n",
        "          Min,\n",
        "          df['Height']\n",
        "      )\n",
        "  )"
      ],
      "metadata": {
        "id": "88uMQDtygIsN"
      },
      "execution_count": null,
      "outputs": []
    },
    {
      "cell_type": "markdown",
      "source": [
        "We put upper limit and Lower limit in a variable\n",
        "\n",
        "If the cgpa data is more than the upper limit then we put the upper limit in that cgpa's data\n",
        "\n",
        " But ,\n",
        "\n",
        " If the cgpa data is less than the lower limit then we put the lower limit in the place of the cgpa data"
      ],
      "metadata": {
        "id": "xKHuhhBzgjfa"
      }
    },
    {
      "cell_type": "code",
      "source": [
        "df"
      ],
      "metadata": {
        "id": "vovhWaAohiiV"
      },
      "execution_count": null,
      "outputs": []
    },
    {
      "cell_type": "code",
      "source": [
        "df['Height_capped'].describe()"
      ],
      "metadata": {
        "id": "GDKa9k0ViJRj"
      },
      "execution_count": null,
      "outputs": []
    },
    {
      "cell_type": "code",
      "source": [
        "plt.figure(figsize=(12,10))\n",
        "plt.subplot(1,2,1)\n",
        "\n",
        "sns.histplot(df['Height_capped'], kde=True)\n",
        "\n",
        "\n",
        "\n",
        "plt.show()"
      ],
      "metadata": {
        "id": "uyfmg4LpjTRJ"
      },
      "execution_count": null,
      "outputs": []
    },
    {
      "cell_type": "markdown",
      "source": [
        "DRAWING THE BOX PLOT"
      ],
      "metadata": {
        "id": "rQSEk0CjxnFO"
      }
    },
    {
      "cell_type": "code",
      "source": [
        "#Drawing the Boxplot\n",
        "sns.boxplot(df['Height_capped'])"
      ],
      "metadata": {
        "id": "Rr6lKfrmxmzf"
      },
      "execution_count": null,
      "outputs": []
    }
  ]
}