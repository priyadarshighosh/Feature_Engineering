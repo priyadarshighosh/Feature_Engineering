{
  "nbformat": 4,
  "nbformat_minor": 0,
  "metadata": {
    "colab": {
      "private_outputs": true,
      "provenance": [],
      "authorship_tag": "ABX9TyPLxKLSMGg3IM7O41p6uMNo",
      "include_colab_link": true
    },
    "kernelspec": {
      "name": "python3",
      "display_name": "Python 3"
    },
    "language_info": {
      "name": "python"
    }
  },
  "cells": [
    {
      "cell_type": "markdown",
      "metadata": {
        "id": "view-in-github",
        "colab_type": "text"
      },
      "source": [
        "<a href=\"https://colab.research.google.com/github/priyadarshighosh/Study-ML-Everyday-/blob/main/Feature%20Engineering/DAY2/ML_function_transformation_DAY30.ipynb\" target=\"_parent\"><img src=\"https://colab.research.google.com/assets/colab-badge.svg\" alt=\"Open In Colab\"/></a>"
      ]
    },
    {
      "cell_type": "markdown",
      "source": [
        "# MATHEMATICAL TRANSFORMATION ON TITANIC DATASET"
      ],
      "metadata": {
        "id": "gF1HQgmpetSH"
      }
    },
    {
      "cell_type": "markdown",
      "source": [
        "## Importing python libraries"
      ],
      "metadata": {
        "id": "bF2ZBtE2eGhY"
      }
    },
    {
      "cell_type": "code",
      "execution_count": null,
      "metadata": {
        "id": "1EDbbOzIUSb7"
      },
      "outputs": [],
      "source": [
        "import numpy as np\n",
        "import pandas as pd\n",
        "import matplotlib.pyplot as plt     #importing the basic data Science Libraries like numpy pandas matplotlib and seaborn\n",
        "import seaborn as sns\n",
        "\n",
        "import scipy.stats as stats\n"
      ]
    },
    {
      "cell_type": "markdown",
      "source": [
        "# Importing SKlearn Model and Transformations"
      ],
      "metadata": {
        "id": "Nuk4XViSeTlJ"
      }
    },
    {
      "cell_type": "code",
      "source": [
        "from sklearn.model_selection import train_test_split               #for splitting the data into test and training data\n",
        "from sklearn.metrics import accuracy_score\n",
        "from sklearn.model_selection import cross_val_score\n",
        "\n",
        "\n",
        "from sklearn.compose import ColumnTransformer                       #for transforming the columns\n",
        "from sklearn.impute import SimpleImputer                             #for imputing the missing values\n",
        "from sklearn.preprocessing import OneHotEncoder                      #one hot encoding\n",
        "from sklearn.preprocessing import MinMaxScaler                        #standard scaling\n",
        "from sklearn.preprocessing import StandardScaler                      #min max scaling\n",
        "from sklearn.preprocessing import FunctionTransformer\n",
        "\n",
        "\n",
        "\n",
        "from sklearn.linear_model import LinearRegression\n",
        "from sklearn.linear_model import LogisticRegression\n",
        "from sklearn.tree import DecisionTreeClassifier"
      ],
      "metadata": {
        "id": "BWz39R0JWGuY"
      },
      "execution_count": null,
      "outputs": []
    },
    {
      "cell_type": "markdown",
      "source": [
        "# Uploading the DATASET"
      ],
      "metadata": {
        "id": "6Hd_Pl__XXsU"
      }
    },
    {
      "cell_type": "code",
      "source": [
        "from google.colab import files    # we are importing the file from the device\n",
        "uploaded = files.upload()"
      ],
      "metadata": {
        "id": "iMIhjTIGWPKp"
      },
      "execution_count": null,
      "outputs": []
    },
    {
      "cell_type": "code",
      "source": [
        "df=pd.read_csv('Titanic-Dataset.csv')   #fitting the data in the df dataframe\n",
        "df.head()"
      ],
      "metadata": {
        "id": "YJtqReYLWdDT"
      },
      "execution_count": null,
      "outputs": []
    },
    {
      "cell_type": "markdown",
      "source": [
        "Only 3 columns we need for this dataset"
      ],
      "metadata": {
        "id": "iyeDp7X7Xg94"
      }
    },
    {
      "cell_type": "code",
      "source": [
        "df = pd.read_csv('Titanic-Dataset.csv', usecols= ['Age','Fare','Survived'])\n"
      ],
      "metadata": {
        "id": "y_sYpHO0W99M"
      },
      "execution_count": null,
      "outputs": []
    },
    {
      "cell_type": "code",
      "source": [
        "df['Age'].fillna(df['Age'].mean(), inplace=True)\n",
        "\n",
        "df.head()"
      ],
      "metadata": {
        "id": "MLGdMpw6Wj3s"
      },
      "execution_count": null,
      "outputs": []
    },
    {
      "cell_type": "markdown",
      "source": [
        "Extracting X and y"
      ],
      "metadata": {
        "id": "RnwWAZzQX8Lp"
      }
    },
    {
      "cell_type": "code",
      "source": [
        "X = df.drop(columns=['Survived'])\n",
        "y = df['Survived']"
      ],
      "metadata": {
        "id": "Ylw-Pt9zYFqY"
      },
      "execution_count": null,
      "outputs": []
    },
    {
      "cell_type": "markdown",
      "source": [
        "# Making the TRAINING and TESTING  SET"
      ],
      "metadata": {
        "id": "1h7xTkyLYJEw"
      }
    },
    {
      "cell_type": "code",
      "source": [
        "X_train, X_test, y_train, y_test = train_test_split(X,y, test_size=0.2, random_state=42)"
      ],
      "metadata": {
        "id": "fO0iYsV8YGra"
      },
      "execution_count": null,
      "outputs": []
    },
    {
      "cell_type": "markdown",
      "source": [
        "# Plotting the graphs"
      ],
      "metadata": {
        "id": "wkUdkkRIZFCN"
      }
    },
    {
      "cell_type": "markdown",
      "source": [
        "Graph of AGE distribution"
      ],
      "metadata": {
        "id": "mHhTbn8ycJPu"
      }
    },
    {
      "cell_type": "code",
      "source": [
        "plt.figure(figsize=(14,4))\n",
        "plt.subplot(121)\n",
        "sns.histplot(X_train['Age'],kde=True)\n",
        "#sns.distplot(X_train['Age'])\n",
        "plt.title('Age  PDF')            #PDF means probability density function\n",
        "\n",
        "plt.subplot(122)\n",
        "stats.probplot(X_train['Age'], dist=\"norm\", plot=plt)\n",
        "plt.title('Age QQ PLOT ')\n",
        "\n",
        "plt.show()"
      ],
      "metadata": {
        "id": "yF20heIaZhJ2"
      },
      "execution_count": null,
      "outputs": []
    },
    {
      "cell_type": "markdown",
      "source": [
        "Graph of Fare distribution"
      ],
      "metadata": {
        "id": "XSNqcAvHcSJk"
      }
    },
    {
      "cell_type": "code",
      "source": [
        "plt.figure(figsize=(14,4))\n",
        "plt.subplot(121)\n",
        "sns.histplot(X_train['Fare'], kde=True)\n",
        "#sns.distplot(X_train['Fare'])\n",
        "plt.title('Fare  PDF')            #PDF means probability density function\n",
        "\n",
        "plt.subplot(122)\n",
        "stats.probplot(X_train['Fare'], dist=\"norm\", plot=plt)\n",
        "plt.title('Fare QQ PLOT ')\n",
        "\n",
        "plt.show()"
      ],
      "metadata": {
        "id": "wl-fy5FBb7ge"
      },
      "execution_count": null,
      "outputs": []
    },
    {
      "cell_type": "markdown",
      "source": [
        "# ML Models"
      ],
      "metadata": {
        "id": "Q9BkOgxKct6f"
      }
    },
    {
      "cell_type": "code",
      "source": [
        "clf = LogisticRegression()\n",
        "clf2 = DecisionTreeClassifier()\n",
        "\n",
        "clf.fit(X_train, y_train)                 #Fitting the models in the regression and desicion tree\n",
        "clf2.fit(X_train, y_train)"
      ],
      "metadata": {
        "id": "5yVkrQI4czUO"
      },
      "execution_count": null,
      "outputs": []
    },
    {
      "cell_type": "markdown",
      "source": [
        "# Prediction and ACCURACY CALCULATION!!!"
      ],
      "metadata": {
        "id": "ze9ciCjvdCUW"
      }
    },
    {
      "cell_type": "code",
      "source": [
        "y_pred = clf.predict(X_test)\n",
        "y_pred2 = clf2.predict(X_test)\n",
        "\n",
        "print('Logistic Regression Accuracy: ', accuracy_score(y_test, y_pred))\n",
        "print('Decision Tree Accuracy: ', accuracy_score(y_test, y_pred2))"
      ],
      "metadata": {
        "id": "g0rq_xFnd_J7"
      },
      "execution_count": null,
      "outputs": []
    },
    {
      "cell_type": "markdown",
      "source": [
        "# Function TRANSFORMATION  ON THE DATASET"
      ],
      "metadata": {
        "id": "qM29m2Fkf1Gl"
      }
    },
    {
      "cell_type": "code",
      "source": [
        "tnf = FunctionTransformer(func=np.log1p)\n"
      ],
      "metadata": {
        "id": "gBrxYObsf8hU"
      },
      "execution_count": null,
      "outputs": []
    },
    {
      "cell_type": "code",
      "source": [
        "X_train_transformed = tnf.fit_transform(X_train)\n",
        "X_test_transformed = tnf.transform(X_test)"
      ],
      "metadata": {
        "id": "TeGoUIimq_Fh"
      },
      "execution_count": null,
      "outputs": []
    },
    {
      "cell_type": "markdown",
      "source": [
        "# ML Model and fitting the data"
      ],
      "metadata": {
        "id": "Eezrn308r-2M"
      }
    },
    {
      "cell_type": "markdown",
      "source": [
        "Again we get the models and fit our data"
      ],
      "metadata": {
        "id": "t4LqzQ5Fr1nn"
      }
    },
    {
      "cell_type": "code",
      "source": [
        "clf = LogisticRegression()\n",
        "clf2 = DecisionTreeClassifier()\n",
        "\n",
        "clf.fit(X_train_transformed, y_train)                 #Fitting the models in the regression and desicion tree\n",
        "clf2.fit(X_train_transformed, y_train)"
      ],
      "metadata": {
        "id": "isQJYcg_rzCy"
      },
      "execution_count": null,
      "outputs": []
    },
    {
      "cell_type": "markdown",
      "source": [
        "# Accuracy and Prediction !!"
      ],
      "metadata": {
        "id": "36tig5ZxsJ1M"
      }
    },
    {
      "cell_type": "code",
      "source": [
        "y_pred = clf.predict(X_test_transformed)\n",
        "y_pred2 = clf2.predict(X_test_transformed)\n",
        "\n",
        "print('Logistic Regression Accuracy: ', accuracy_score(y_test, y_pred))\n",
        "print('Decision Tree Accuracy: ', accuracy_score(y_test, y_pred2))         #in Decision tree it doesnot matter normal distribution or not"
      ],
      "metadata": {
        "id": "z2BApOpDseRR"
      },
      "execution_count": null,
      "outputs": []
    },
    {
      "cell_type": "markdown",
      "source": [
        "# CROSS VALIDATION"
      ],
      "metadata": {
        "id": "FluDLcmDuu0c"
      }
    },
    {
      "cell_type": "code",
      "source": [
        "X_transformed = tnf.fit_transform(X)\n",
        "\n",
        "clf = LogisticRegression()\n",
        "clf2 = DecisionTreeClassifier()\n",
        "\n",
        "print('Logistic Regression Accuracy: ', cross_val_score(clf, X_transformed, y, cv=5).mean())\n",
        "print('Decision Tree Accuracy: ', cross_val_score(clf2, X_transformed, y, cv=5).mean())\n",
        "#"
      ],
      "metadata": {
        "id": "Pbhh0CHUvJXe"
      },
      "execution_count": null,
      "outputs": []
    },
    {
      "cell_type": "markdown",
      "source": [
        "we do cross validation so that we split the training data into 80 perc and 20 perc parts and then we go through the data 5 times and then take the average accuracy of the total number of times (epochs ) it went through the data ."
      ],
      "metadata": {
        "id": "UiCjlcHZvtgF"
      }
    },
    {
      "cell_type": "markdown",
      "source": [
        "#  Graphs AFTER  TRANSFORMER"
      ],
      "metadata": {
        "id": "-j31QS2dx0WE"
      }
    },
    {
      "cell_type": "code",
      "source": [
        "plt.figure(figsize=(14,4))\n",
        "\n",
        "\n",
        "plt.subplot(121)\n",
        "stats.probplot(X_train['Age'], dist=\"norm\", plot=plt)\n",
        "plt.title('Age BEFORE LOG ')\n",
        "\n",
        "plt.subplot(122)\n",
        "stats.probplot(X_train_transformed['Age'], dist=\"norm\", plot=plt)\n",
        "plt.title('Age AFTER LOG ')\n",
        "\n",
        "plt.show()"
      ],
      "metadata": {
        "id": "VJdKEdVtwWWO"
      },
      "execution_count": null,
      "outputs": []
    },
    {
      "cell_type": "code",
      "source": [
        "plt.figure(figsize=(14,4))\n",
        "\n",
        "plt.subplot(121)\n",
        "stats.probplot(X_train['Fare'], dist=\"norm\", plot=plt)\n",
        "plt.title('Fare Before LOg ')\n",
        "\n",
        "\n",
        "plt.subplot(122)\n",
        "stats.probplot(X_train_transformed['Fare'], dist=\"norm\", plot=plt)\n",
        "plt.title('Fare After LOG')\n",
        "\n",
        "plt.show()"
      ],
      "metadata": {
        "id": "RGn5C_MzwfPQ"
      },
      "execution_count": null,
      "outputs": []
    }
  ]
}
